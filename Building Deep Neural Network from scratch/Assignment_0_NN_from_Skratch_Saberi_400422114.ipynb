{
 "cells": [
  {
   "cell_type": "markdown",
   "metadata": {},
   "source": [
    "# Import libraries"
   ]
  },
  {
   "cell_type": "code",
   "execution_count": 1,
   "metadata": {
    "id": "8RivJtFou01a"
   },
   "outputs": [],
   "source": [
    "import numpy as np\n",
    "import pandas as pd"
   ]
  },
  {
   "cell_type": "markdown",
   "metadata": {},
   "source": [
    "# Implementing the neural network from skratch"
   ]
  },
  {
   "cell_type": "code",
   "execution_count": 2,
   "metadata": {
    "id": "z3-56_KhvuX2"
   },
   "outputs": [],
   "source": [
    "class Layer:\n",
    "    def __init__(self):\n",
    "        self.input = None\n",
    "        self.output = None\n",
    "\n",
    "    def forward_prop(self, input):\n",
    "        return\n",
    "\n",
    "    def back_prop(self, d, learning_rate):\n",
    "        return"
   ]
  },
  {
   "cell_type": "code",
   "execution_count": 3,
   "metadata": {
    "id": "QcLt46K7vxof"
   },
   "outputs": [],
   "source": [
    "class FCLayer(Layer):\n",
    "    def __init__(self, input_size, output_size):\n",
    "        self.weights = np.random.randn(output_size, input_size)\n",
    "        self.bias = np.random.randn(output_size, 1)\n",
    "\n",
    "    def forward_prop(self, input):\n",
    "        self.input = input\n",
    "        self.output = np.dot(self.weights, self.input) + self.bias\n",
    "        return self.output\n",
    "\n",
    "    def back_prop(self, d, learning_rate):\n",
    "        dw = np.dot(d, self.input.T)\n",
    "        \n",
    "        self.weights -= learning_rate * dw\n",
    "        self.bias -= learning_rate * d\n",
    "        \n",
    "        da = np.dot(self.weights.T, d)\n",
    "        return da"
   ]
  },
  {
   "cell_type": "code",
   "execution_count": 4,
   "metadata": {
    "id": "9sS9zWMLvy-9"
   },
   "outputs": [],
   "source": [
    "class ActivationLayer(Layer):\n",
    "    def __init__(self, activation, activation_prime):\n",
    "        self.activation = activation\n",
    "        self.activation_prime = activation_prime\n",
    "\n",
    "    def forward_prop(self, input):\n",
    "        self.input = input\n",
    "        self.output = self.activation(self.input)\n",
    "        return self.output\n",
    "\n",
    "    def back_prop(self, d, learning_rate):\n",
    "        return d * self.activation_prime(self.input)"
   ]
  },
  {
   "cell_type": "code",
   "execution_count": 5,
   "metadata": {
    "id": "bg5Oqnu1v1Xp"
   },
   "outputs": [],
   "source": [
    "def train(network, loss, loss_prime, x_train, y_train, epochs = 1000, learning_rate = 0.1):\n",
    "    for e in range(epochs):\n",
    "        l = 0\n",
    "        for x, y in zip(x_train, y_train):\n",
    "            # forward\n",
    "            output = x\n",
    "            for layer in network:\n",
    "                output = layer.forward_prop(output)\n",
    "\n",
    "            # error\n",
    "            l += loss(y, output)\n",
    "\n",
    "            # backward\n",
    "            grad = loss_prime(y, output)\n",
    "            for layer in reversed(network):\n",
    "                grad = layer.back_prop(grad, learning_rate)\n",
    "\n",
    "        l /= len(x_train)\n",
    "        print(f\"{e + 1}/{epochs}, error={l}\")\n",
    "            \n",
    "def test(network, input):\n",
    "    output = input\n",
    "    for layer in network:\n",
    "        output = layer.forward_prop(output)\n",
    "    return output"
   ]
  },
  {
   "cell_type": "code",
   "execution_count": 6,
   "metadata": {},
   "outputs": [],
   "source": [
    "def tanh(x):\n",
    "    return np.tanh(x)\n",
    "\n",
    "def tanh_prime(x):\n",
    "    return 1 - np.tanh(x) ** 2\n",
    "\n",
    "\n",
    "def sigmoid(x):\n",
    "    return 1 / (1 + np.exp(-x))\n",
    "\n",
    "def sigmoid_prime(x):\n",
    "    return sigmoid(x) * (1 - sigmoid(x))"
   ]
  },
  {
   "cell_type": "code",
   "execution_count": 7,
   "metadata": {
    "id": "rKibVCv6v4K1"
   },
   "outputs": [],
   "source": [
    "def mse(y_true, y_hat):\n",
    "    return np.mean(np.power(y_true - y_hat, 2))\n",
    "\n",
    "def mse_prime(y_true, y_hat):\n",
    "    return 2 * (y_hat - y_true) / np.size(y_true)\n",
    "\n",
    "def lg(y_true, y_hat):\n",
    "    return np.mean(-y_true * np.log(y_hat) - (1 - y_true) * np.log(1 - y_hat))\n",
    "\n",
    "def lg_prime(y_true, y_hat):\n",
    "    return ((1 - y_true) / (1 - y_hat) - y_true / y_hat) / np.size(y_true)"
   ]
  },
  {
   "cell_type": "markdown",
   "metadata": {},
   "source": [
    "# Import the data"
   ]
  },
  {
   "cell_type": "code",
   "execution_count": 9,
   "metadata": {
    "id": "1R49ewW0SqFV"
   },
   "outputs": [],
   "source": [
    "loan_train = pd.read_csv('C:/Users/Saberi/Desktop/nf2/loan-train.csv')\n",
    "loan_test = pd.read_csv('C:/Users/Saberi/Desktop/nf2/loan-test.csv')"
   ]
  },
  {
   "cell_type": "code",
   "execution_count": 10,
   "metadata": {
    "colab": {
     "base_uri": "https://localhost:8080/",
     "height": 206
    },
    "id": "TZ19n5YUv6Uk",
    "outputId": "57cc9b08-93ee-4592-8100-0e29d2218bf5"
   },
   "outputs": [
    {
     "data": {
      "text/html": [
       "<div>\n",
       "<style scoped>\n",
       "    .dataframe tbody tr th:only-of-type {\n",
       "        vertical-align: middle;\n",
       "    }\n",
       "\n",
       "    .dataframe tbody tr th {\n",
       "        vertical-align: top;\n",
       "    }\n",
       "\n",
       "    .dataframe thead th {\n",
       "        text-align: right;\n",
       "    }\n",
       "</style>\n",
       "<table border=\"1\" class=\"dataframe\">\n",
       "  <thead>\n",
       "    <tr style=\"text-align: right;\">\n",
       "      <th></th>\n",
       "      <th>Loan_ID</th>\n",
       "      <th>Gender</th>\n",
       "      <th>Married</th>\n",
       "      <th>Dependents</th>\n",
       "      <th>Education</th>\n",
       "      <th>Self_Employed</th>\n",
       "      <th>ApplicantIncome</th>\n",
       "      <th>CoapplicantIncome</th>\n",
       "      <th>LoanAmount</th>\n",
       "      <th>Loan_Amount_Term</th>\n",
       "      <th>Credit_History</th>\n",
       "      <th>Property_Area</th>\n",
       "      <th>Loan_Status</th>\n",
       "    </tr>\n",
       "  </thead>\n",
       "  <tbody>\n",
       "    <tr>\n",
       "      <th>0</th>\n",
       "      <td>LP001002</td>\n",
       "      <td>Male</td>\n",
       "      <td>No</td>\n",
       "      <td>0</td>\n",
       "      <td>Graduate</td>\n",
       "      <td>No</td>\n",
       "      <td>5849</td>\n",
       "      <td>0.0</td>\n",
       "      <td>NaN</td>\n",
       "      <td>360.0</td>\n",
       "      <td>1.0</td>\n",
       "      <td>Urban</td>\n",
       "      <td>Y</td>\n",
       "    </tr>\n",
       "    <tr>\n",
       "      <th>1</th>\n",
       "      <td>LP001003</td>\n",
       "      <td>Male</td>\n",
       "      <td>Yes</td>\n",
       "      <td>1</td>\n",
       "      <td>Graduate</td>\n",
       "      <td>No</td>\n",
       "      <td>4583</td>\n",
       "      <td>1508.0</td>\n",
       "      <td>128.0</td>\n",
       "      <td>360.0</td>\n",
       "      <td>1.0</td>\n",
       "      <td>Rural</td>\n",
       "      <td>N</td>\n",
       "    </tr>\n",
       "    <tr>\n",
       "      <th>2</th>\n",
       "      <td>LP001005</td>\n",
       "      <td>Male</td>\n",
       "      <td>Yes</td>\n",
       "      <td>0</td>\n",
       "      <td>Graduate</td>\n",
       "      <td>Yes</td>\n",
       "      <td>3000</td>\n",
       "      <td>0.0</td>\n",
       "      <td>66.0</td>\n",
       "      <td>360.0</td>\n",
       "      <td>1.0</td>\n",
       "      <td>Urban</td>\n",
       "      <td>Y</td>\n",
       "    </tr>\n",
       "    <tr>\n",
       "      <th>3</th>\n",
       "      <td>LP001006</td>\n",
       "      <td>Male</td>\n",
       "      <td>Yes</td>\n",
       "      <td>0</td>\n",
       "      <td>Not Graduate</td>\n",
       "      <td>No</td>\n",
       "      <td>2583</td>\n",
       "      <td>2358.0</td>\n",
       "      <td>120.0</td>\n",
       "      <td>360.0</td>\n",
       "      <td>1.0</td>\n",
       "      <td>Urban</td>\n",
       "      <td>Y</td>\n",
       "    </tr>\n",
       "    <tr>\n",
       "      <th>4</th>\n",
       "      <td>LP001008</td>\n",
       "      <td>Male</td>\n",
       "      <td>No</td>\n",
       "      <td>0</td>\n",
       "      <td>Graduate</td>\n",
       "      <td>No</td>\n",
       "      <td>6000</td>\n",
       "      <td>0.0</td>\n",
       "      <td>141.0</td>\n",
       "      <td>360.0</td>\n",
       "      <td>1.0</td>\n",
       "      <td>Urban</td>\n",
       "      <td>Y</td>\n",
       "    </tr>\n",
       "  </tbody>\n",
       "</table>\n",
       "</div>"
      ],
      "text/plain": [
       "    Loan_ID Gender Married Dependents     Education Self_Employed  \\\n",
       "0  LP001002   Male      No          0      Graduate            No   \n",
       "1  LP001003   Male     Yes          1      Graduate            No   \n",
       "2  LP001005   Male     Yes          0      Graduate           Yes   \n",
       "3  LP001006   Male     Yes          0  Not Graduate            No   \n",
       "4  LP001008   Male      No          0      Graduate            No   \n",
       "\n",
       "   ApplicantIncome  CoapplicantIncome  LoanAmount  Loan_Amount_Term  \\\n",
       "0             5849                0.0         NaN             360.0   \n",
       "1             4583             1508.0       128.0             360.0   \n",
       "2             3000                0.0        66.0             360.0   \n",
       "3             2583             2358.0       120.0             360.0   \n",
       "4             6000                0.0       141.0             360.0   \n",
       "\n",
       "   Credit_History Property_Area Loan_Status  \n",
       "0             1.0         Urban           Y  \n",
       "1             1.0         Rural           N  \n",
       "2             1.0         Urban           Y  \n",
       "3             1.0         Urban           Y  \n",
       "4             1.0         Urban           Y  "
      ]
     },
     "execution_count": 10,
     "metadata": {},
     "output_type": "execute_result"
    }
   ],
   "source": [
    "loan_train.head()"
   ]
  },
  {
   "cell_type": "code",
   "execution_count": 11,
   "metadata": {
    "colab": {
     "base_uri": "https://localhost:8080/",
     "height": 206
    },
    "id": "mdS6diPONmOi",
    "outputId": "9836e2f1-da22-488d-cc8e-e799d0d7bfd1"
   },
   "outputs": [
    {
     "data": {
      "text/html": [
       "<div>\n",
       "<style scoped>\n",
       "    .dataframe tbody tr th:only-of-type {\n",
       "        vertical-align: middle;\n",
       "    }\n",
       "\n",
       "    .dataframe tbody tr th {\n",
       "        vertical-align: top;\n",
       "    }\n",
       "\n",
       "    .dataframe thead th {\n",
       "        text-align: right;\n",
       "    }\n",
       "</style>\n",
       "<table border=\"1\" class=\"dataframe\">\n",
       "  <thead>\n",
       "    <tr style=\"text-align: right;\">\n",
       "      <th></th>\n",
       "      <th>Loan_ID</th>\n",
       "      <th>Gender</th>\n",
       "      <th>Married</th>\n",
       "      <th>Dependents</th>\n",
       "      <th>Education</th>\n",
       "      <th>Self_Employed</th>\n",
       "      <th>ApplicantIncome</th>\n",
       "      <th>CoapplicantIncome</th>\n",
       "      <th>LoanAmount</th>\n",
       "      <th>Loan_Amount_Term</th>\n",
       "      <th>Credit_History</th>\n",
       "      <th>Property_Area</th>\n",
       "    </tr>\n",
       "  </thead>\n",
       "  <tbody>\n",
       "    <tr>\n",
       "      <th>0</th>\n",
       "      <td>LP001015</td>\n",
       "      <td>Male</td>\n",
       "      <td>Yes</td>\n",
       "      <td>0</td>\n",
       "      <td>Graduate</td>\n",
       "      <td>No</td>\n",
       "      <td>5720</td>\n",
       "      <td>0</td>\n",
       "      <td>110.0</td>\n",
       "      <td>360.0</td>\n",
       "      <td>1.0</td>\n",
       "      <td>Urban</td>\n",
       "    </tr>\n",
       "    <tr>\n",
       "      <th>1</th>\n",
       "      <td>LP001022</td>\n",
       "      <td>Male</td>\n",
       "      <td>Yes</td>\n",
       "      <td>1</td>\n",
       "      <td>Graduate</td>\n",
       "      <td>No</td>\n",
       "      <td>3076</td>\n",
       "      <td>1500</td>\n",
       "      <td>126.0</td>\n",
       "      <td>360.0</td>\n",
       "      <td>1.0</td>\n",
       "      <td>Urban</td>\n",
       "    </tr>\n",
       "    <tr>\n",
       "      <th>2</th>\n",
       "      <td>LP001031</td>\n",
       "      <td>Male</td>\n",
       "      <td>Yes</td>\n",
       "      <td>2</td>\n",
       "      <td>Graduate</td>\n",
       "      <td>No</td>\n",
       "      <td>5000</td>\n",
       "      <td>1800</td>\n",
       "      <td>208.0</td>\n",
       "      <td>360.0</td>\n",
       "      <td>1.0</td>\n",
       "      <td>Urban</td>\n",
       "    </tr>\n",
       "    <tr>\n",
       "      <th>3</th>\n",
       "      <td>LP001035</td>\n",
       "      <td>Male</td>\n",
       "      <td>Yes</td>\n",
       "      <td>2</td>\n",
       "      <td>Graduate</td>\n",
       "      <td>No</td>\n",
       "      <td>2340</td>\n",
       "      <td>2546</td>\n",
       "      <td>100.0</td>\n",
       "      <td>360.0</td>\n",
       "      <td>NaN</td>\n",
       "      <td>Urban</td>\n",
       "    </tr>\n",
       "    <tr>\n",
       "      <th>4</th>\n",
       "      <td>LP001051</td>\n",
       "      <td>Male</td>\n",
       "      <td>No</td>\n",
       "      <td>0</td>\n",
       "      <td>Not Graduate</td>\n",
       "      <td>No</td>\n",
       "      <td>3276</td>\n",
       "      <td>0</td>\n",
       "      <td>78.0</td>\n",
       "      <td>360.0</td>\n",
       "      <td>1.0</td>\n",
       "      <td>Urban</td>\n",
       "    </tr>\n",
       "  </tbody>\n",
       "</table>\n",
       "</div>"
      ],
      "text/plain": [
       "    Loan_ID Gender Married Dependents     Education Self_Employed  \\\n",
       "0  LP001015   Male     Yes          0      Graduate            No   \n",
       "1  LP001022   Male     Yes          1      Graduate            No   \n",
       "2  LP001031   Male     Yes          2      Graduate            No   \n",
       "3  LP001035   Male     Yes          2      Graduate            No   \n",
       "4  LP001051   Male      No          0  Not Graduate            No   \n",
       "\n",
       "   ApplicantIncome  CoapplicantIncome  LoanAmount  Loan_Amount_Term  \\\n",
       "0             5720                  0       110.0             360.0   \n",
       "1             3076               1500       126.0             360.0   \n",
       "2             5000               1800       208.0             360.0   \n",
       "3             2340               2546       100.0             360.0   \n",
       "4             3276                  0        78.0             360.0   \n",
       "\n",
       "   Credit_History Property_Area  \n",
       "0             1.0         Urban  \n",
       "1             1.0         Urban  \n",
       "2             1.0         Urban  \n",
       "3             NaN         Urban  \n",
       "4             1.0         Urban  "
      ]
     },
     "execution_count": 11,
     "metadata": {},
     "output_type": "execute_result"
    }
   ],
   "source": [
    "loan_test.head()"
   ]
  },
  {
   "cell_type": "code",
   "execution_count": 12,
   "metadata": {
    "colab": {
     "base_uri": "https://localhost:8080/"
    },
    "id": "2wvvNW2xOGlT",
    "outputId": "3714f505-a464-433f-b6b8-ea6698ba9758"
   },
   "outputs": [
    {
     "data": {
      "text/plain": [
       "Loan_ID              614\n",
       "Gender                 2\n",
       "Married                2\n",
       "Dependents             4\n",
       "Education              2\n",
       "Self_Employed          2\n",
       "ApplicantIncome      505\n",
       "CoapplicantIncome    287\n",
       "LoanAmount           203\n",
       "Loan_Amount_Term      10\n",
       "Credit_History         2\n",
       "Property_Area          3\n",
       "Loan_Status            2\n",
       "dtype: int64"
      ]
     },
     "execution_count": 12,
     "metadata": {},
     "output_type": "execute_result"
    }
   ],
   "source": [
    "loan_train.nunique()"
   ]
  },
  {
   "cell_type": "markdown",
   "metadata": {},
   "source": [
    "# Cleaning the data"
   ]
  },
  {
   "cell_type": "code",
   "execution_count": 13,
   "metadata": {
    "id": "gSc7bIopNi0J"
   },
   "outputs": [],
   "source": [
    "#omitting unnecessary variables\n",
    "loan_train=loan_train.drop(['Loan_ID'],axis=1)\n",
    "loan_test=loan_test.drop(['Loan_ID'],axis=1)"
   ]
  },
  {
   "cell_type": "code",
   "execution_count": 14,
   "metadata": {
    "colab": {
     "base_uri": "https://localhost:8080/"
    },
    "id": "mTG5QHqgv9nf",
    "outputId": "53638a81-d899-40b3-d968-195c9df4a4c3"
   },
   "outputs": [
    {
     "name": "stdout",
     "output_type": "stream",
     "text": [
      "(614, 12)\n",
      "(367, 11)\n"
     ]
    }
   ],
   "source": [
    "print( loan_train.shape)\n",
    "print(loan_test.shape)"
   ]
  },
  {
   "cell_type": "code",
   "execution_count": 15,
   "metadata": {
    "colab": {
     "base_uri": "https://localhost:8080/"
    },
    "id": "3u5bp4Buv_cP",
    "outputId": "7a703a5f-fc30-423f-ec2d-9fb186354e93"
   },
   "outputs": [
    {
     "name": "stdout",
     "output_type": "stream",
     "text": [
      "<class 'pandas.core.frame.DataFrame'>\n",
      "RangeIndex: 614 entries, 0 to 613\n",
      "Data columns (total 12 columns):\n",
      " #   Column             Non-Null Count  Dtype  \n",
      "---  ------             --------------  -----  \n",
      " 0   Gender             601 non-null    object \n",
      " 1   Married            611 non-null    object \n",
      " 2   Dependents         599 non-null    object \n",
      " 3   Education          614 non-null    object \n",
      " 4   Self_Employed      582 non-null    object \n",
      " 5   ApplicantIncome    614 non-null    int64  \n",
      " 6   CoapplicantIncome  614 non-null    float64\n",
      " 7   LoanAmount         592 non-null    float64\n",
      " 8   Loan_Amount_Term   600 non-null    float64\n",
      " 9   Credit_History     564 non-null    float64\n",
      " 10  Property_Area      614 non-null    object \n",
      " 11  Loan_Status        614 non-null    object \n",
      "dtypes: float64(4), int64(1), object(7)\n",
      "memory usage: 57.7+ KB\n"
     ]
    }
   ],
   "source": [
    "loan_train.info()"
   ]
  },
  {
   "cell_type": "code",
   "execution_count": 16,
   "metadata": {
    "colab": {
     "base_uri": "https://localhost:8080/"
    },
    "id": "Mjeqx0HkUcwo",
    "outputId": "d7e520b6-43e6-455e-df99-51372ef16df7"
   },
   "outputs": [
    {
     "name": "stdout",
     "output_type": "stream",
     "text": [
      "<class 'pandas.core.frame.DataFrame'>\n",
      "RangeIndex: 367 entries, 0 to 366\n",
      "Data columns (total 11 columns):\n",
      " #   Column             Non-Null Count  Dtype  \n",
      "---  ------             --------------  -----  \n",
      " 0   Gender             356 non-null    object \n",
      " 1   Married            367 non-null    object \n",
      " 2   Dependents         357 non-null    object \n",
      " 3   Education          367 non-null    object \n",
      " 4   Self_Employed      344 non-null    object \n",
      " 5   ApplicantIncome    367 non-null    int64  \n",
      " 6   CoapplicantIncome  367 non-null    int64  \n",
      " 7   LoanAmount         362 non-null    float64\n",
      " 8   Loan_Amount_Term   361 non-null    float64\n",
      " 9   Credit_History     338 non-null    float64\n",
      " 10  Property_Area      367 non-null    object \n",
      "dtypes: float64(3), int64(2), object(6)\n",
      "memory usage: 31.7+ KB\n"
     ]
    }
   ],
   "source": [
    "loan_test.info()"
   ]
  },
  {
   "cell_type": "code",
   "execution_count": 17,
   "metadata": {
    "colab": {
     "base_uri": "https://localhost:8080/",
     "height": 426
    },
    "id": "LVWWvidvwAou",
    "outputId": "1bd279b4-e4cc-4457-dd58-152e1836001a"
   },
   "outputs": [
    {
     "data": {
      "text/html": [
       "<div>\n",
       "<style scoped>\n",
       "    .dataframe tbody tr th:only-of-type {\n",
       "        vertical-align: middle;\n",
       "    }\n",
       "\n",
       "    .dataframe tbody tr th {\n",
       "        vertical-align: top;\n",
       "    }\n",
       "\n",
       "    .dataframe thead th {\n",
       "        text-align: right;\n",
       "    }\n",
       "</style>\n",
       "<table border=\"1\" class=\"dataframe\">\n",
       "  <thead>\n",
       "    <tr style=\"text-align: right;\">\n",
       "      <th></th>\n",
       "      <th>column_name</th>\n",
       "      <th>number_of_NaN</th>\n",
       "    </tr>\n",
       "  </thead>\n",
       "  <tbody>\n",
       "    <tr>\n",
       "      <th>9</th>\n",
       "      <td>Credit_History</td>\n",
       "      <td>50</td>\n",
       "    </tr>\n",
       "    <tr>\n",
       "      <th>4</th>\n",
       "      <td>Self_Employed</td>\n",
       "      <td>32</td>\n",
       "    </tr>\n",
       "    <tr>\n",
       "      <th>7</th>\n",
       "      <td>LoanAmount</td>\n",
       "      <td>22</td>\n",
       "    </tr>\n",
       "    <tr>\n",
       "      <th>2</th>\n",
       "      <td>Dependents</td>\n",
       "      <td>15</td>\n",
       "    </tr>\n",
       "    <tr>\n",
       "      <th>8</th>\n",
       "      <td>Loan_Amount_Term</td>\n",
       "      <td>14</td>\n",
       "    </tr>\n",
       "    <tr>\n",
       "      <th>0</th>\n",
       "      <td>Gender</td>\n",
       "      <td>13</td>\n",
       "    </tr>\n",
       "    <tr>\n",
       "      <th>1</th>\n",
       "      <td>Married</td>\n",
       "      <td>3</td>\n",
       "    </tr>\n",
       "    <tr>\n",
       "      <th>3</th>\n",
       "      <td>Education</td>\n",
       "      <td>0</td>\n",
       "    </tr>\n",
       "    <tr>\n",
       "      <th>5</th>\n",
       "      <td>ApplicantIncome</td>\n",
       "      <td>0</td>\n",
       "    </tr>\n",
       "    <tr>\n",
       "      <th>6</th>\n",
       "      <td>CoapplicantIncome</td>\n",
       "      <td>0</td>\n",
       "    </tr>\n",
       "    <tr>\n",
       "      <th>10</th>\n",
       "      <td>Property_Area</td>\n",
       "      <td>0</td>\n",
       "    </tr>\n",
       "    <tr>\n",
       "      <th>11</th>\n",
       "      <td>Loan_Status</td>\n",
       "      <td>0</td>\n",
       "    </tr>\n",
       "  </tbody>\n",
       "</table>\n",
       "</div>"
      ],
      "text/plain": [
       "          column_name  number_of_NaN\n",
       "9      Credit_History             50\n",
       "4       Self_Employed             32\n",
       "7          LoanAmount             22\n",
       "2          Dependents             15\n",
       "8    Loan_Amount_Term             14\n",
       "0              Gender             13\n",
       "1             Married              3\n",
       "3           Education              0\n",
       "5     ApplicantIncome              0\n",
       "6   CoapplicantIncome              0\n",
       "10      Property_Area              0\n",
       "11        Loan_Status              0"
      ]
     },
     "execution_count": 17,
     "metadata": {},
     "output_type": "execute_result"
    }
   ],
   "source": [
    "na_feature=pd.DataFrame({\"column_name\":list(loan_train.columns),\"number_of_NaN\":list(loan_train.isna().sum(axis=0))})\n",
    "na_feature = na_feature.sort_values(by=['number_of_NaN'], ascending=False)\n",
    "na_feature.head(12)"
   ]
  },
  {
   "cell_type": "code",
   "execution_count": 18,
   "metadata": {
    "colab": {
     "base_uri": "https://localhost:8080/",
     "height": 394
    },
    "id": "njaLiQ8aRvw6",
    "outputId": "960581cc-0b01-4108-b58d-17646adb7ba5"
   },
   "outputs": [
    {
     "data": {
      "text/html": [
       "<div>\n",
       "<style scoped>\n",
       "    .dataframe tbody tr th:only-of-type {\n",
       "        vertical-align: middle;\n",
       "    }\n",
       "\n",
       "    .dataframe tbody tr th {\n",
       "        vertical-align: top;\n",
       "    }\n",
       "\n",
       "    .dataframe thead th {\n",
       "        text-align: right;\n",
       "    }\n",
       "</style>\n",
       "<table border=\"1\" class=\"dataframe\">\n",
       "  <thead>\n",
       "    <tr style=\"text-align: right;\">\n",
       "      <th></th>\n",
       "      <th>column_name</th>\n",
       "      <th>number_of_NaN</th>\n",
       "    </tr>\n",
       "  </thead>\n",
       "  <tbody>\n",
       "    <tr>\n",
       "      <th>9</th>\n",
       "      <td>Credit_History</td>\n",
       "      <td>29</td>\n",
       "    </tr>\n",
       "    <tr>\n",
       "      <th>4</th>\n",
       "      <td>Self_Employed</td>\n",
       "      <td>23</td>\n",
       "    </tr>\n",
       "    <tr>\n",
       "      <th>0</th>\n",
       "      <td>Gender</td>\n",
       "      <td>11</td>\n",
       "    </tr>\n",
       "    <tr>\n",
       "      <th>2</th>\n",
       "      <td>Dependents</td>\n",
       "      <td>10</td>\n",
       "    </tr>\n",
       "    <tr>\n",
       "      <th>8</th>\n",
       "      <td>Loan_Amount_Term</td>\n",
       "      <td>6</td>\n",
       "    </tr>\n",
       "    <tr>\n",
       "      <th>7</th>\n",
       "      <td>LoanAmount</td>\n",
       "      <td>5</td>\n",
       "    </tr>\n",
       "    <tr>\n",
       "      <th>1</th>\n",
       "      <td>Married</td>\n",
       "      <td>0</td>\n",
       "    </tr>\n",
       "    <tr>\n",
       "      <th>3</th>\n",
       "      <td>Education</td>\n",
       "      <td>0</td>\n",
       "    </tr>\n",
       "    <tr>\n",
       "      <th>5</th>\n",
       "      <td>ApplicantIncome</td>\n",
       "      <td>0</td>\n",
       "    </tr>\n",
       "    <tr>\n",
       "      <th>6</th>\n",
       "      <td>CoapplicantIncome</td>\n",
       "      <td>0</td>\n",
       "    </tr>\n",
       "    <tr>\n",
       "      <th>10</th>\n",
       "      <td>Property_Area</td>\n",
       "      <td>0</td>\n",
       "    </tr>\n",
       "  </tbody>\n",
       "</table>\n",
       "</div>"
      ],
      "text/plain": [
       "          column_name  number_of_NaN\n",
       "9      Credit_History             29\n",
       "4       Self_Employed             23\n",
       "0              Gender             11\n",
       "2          Dependents             10\n",
       "8    Loan_Amount_Term              6\n",
       "7          LoanAmount              5\n",
       "1             Married              0\n",
       "3           Education              0\n",
       "5     ApplicantIncome              0\n",
       "6   CoapplicantIncome              0\n",
       "10      Property_Area              0"
      ]
     },
     "execution_count": 18,
     "metadata": {},
     "output_type": "execute_result"
    }
   ],
   "source": [
    "na_feature=pd.DataFrame({\"column_name\":list(loan_test.columns),\"number_of_NaN\":list(loan_test.isna().sum(axis=0))})\n",
    "na_feature = na_feature.sort_values(by=['number_of_NaN'], ascending=False)\n",
    "na_feature.head(12)"
   ]
  },
  {
   "cell_type": "code",
   "execution_count": 19,
   "metadata": {
    "id": "0I3UeXrewDrH"
   },
   "outputs": [],
   "source": [
    "loan_train['Credit_History'].fillna(loan_train['Credit_History'].mode()[0], inplace=True) \n",
    "loan_test['Credit_History'].fillna(loan_test['Credit_History'].mode()[0], inplace=True)\n",
    "\n",
    "\n",
    "loan_train['LoanAmount'].fillna(loan_train['LoanAmount'].mean(), inplace=True)\n",
    "loan_test['LoanAmount'].fillna(loan_test['LoanAmount'].mean(), inplace=True) \n",
    "\n",
    "loan_train['Loan_Amount_Term'].fillna(loan_train['Loan_Amount_Term'].mode()[0], inplace=True) \n",
    "loan_test['Loan_Amount_Term'].fillna(loan_test['Loan_Amount_Term'].mode()[0], inplace=True) \n",
    "\n",
    "loan_train['Gender'].fillna(loan_train['Gender'].mode()[0], inplace=True)\n",
    "loan_test['Gender'].fillna(loan_test['Gender'].mode()[0], inplace=True)\n",
    "\n",
    "loan_train['Dependents'].fillna(loan_train['Dependents'].mode()[0], inplace=True)\n",
    "loan_test['Dependents'].fillna(loan_test['Dependents'].mode()[0], inplace=True)\n",
    "\n",
    "loan_train['Married'].fillna(loan_train['Married'].mode()[0], inplace=True)\n",
    "loan_test['Married'].fillna(loan_test['Married'].mode()[0], inplace=True)\n",
    "\n",
    "loan_train['Self_Employed'].fillna(loan_train['Self_Employed'].mode()[0], inplace=True)\n",
    "loan_test['Self_Employed'].fillna(loan_test['Self_Employed'].mode()[0], inplace=True)"
   ]
  },
  {
   "cell_type": "code",
   "execution_count": 20,
   "metadata": {
    "colab": {
     "base_uri": "https://localhost:8080/",
     "height": 1000
    },
    "id": "h2YJi3KoaoIF",
    "outputId": "31a941e3-98a6-49a1-deb6-0af701f84333"
   },
   "outputs": [
    {
     "data": {
      "image/png": "[encoded data removed]",
      "text/plain": [
       "<Figure size 504x360 with 1 Axes>"
      ]
     },
     "metadata": {
      "needs_background": "light"
     },
     "output_type": "display_data"
    },
    {
     "data": {
      "image/png": "[encoded data removed]",
      "text/plain": [
       "<Figure size 504x360 with 1 Axes>"
      ]
     },
     "metadata": {
      "needs_background": "light"
     },
     "output_type": "display_data"
    },
    {
     "data": {
      "image/png": "[encoded data removed]",
      "text/plain": [
       "<Figure size 504x360 with 1 Axes>"
      ]
     },
     "metadata": {
      "needs_background": "light"
     },
     "output_type": "display_data"
    },
    {
     "data": {
      "image/png": "[encoded data removed]",
      "text/plain": [
       "<Figure size 504x360 with 1 Axes>"
      ]
     },
     "metadata": {
      "needs_background": "light"
     },
     "output_type": "display_data"
    },
    {
     "data": {
      "image/png": "[encoded data removed]",
      "text/plain": [
       "<Figure size 504x360 with 1 Axes>"
      ]
     },
     "metadata": {
      "needs_background": "light"
     },
     "output_type": "display_data"
    },
    {
     "data": {
      "image/png": "[encoded data removed]",
      "text/plain": [
       "<Figure size 504x360 with 1 Axes>"
      ]
     },
     "metadata": {
      "needs_background": "light"
     },
     "output_type": "display_data"
    },
    {
     "data": {
      "image/png": "[encoded data removed]",
      "text/plain": [
       "<Figure size 504x360 with 1 Axes>"
      ]
     },
     "metadata": {
      "needs_background": "light"
     },
     "output_type": "display_data"
    },
    {
     "data": {
      "image/png": "[encoded data removed]",
      "text/plain": [
       "<Figure size 504x360 with 1 Axes>"
      ]
     },
     "metadata": {
      "needs_background": "light"
     },
     "output_type": "display_data"
    }
   ],
   "source": [
    "import matplotlib.pyplot as plt\n",
    "import seaborn as sns\n",
    "for i in ['Gender', 'Married', 'Dependents', 'Education', 'Self_Employed', 'Credit_History', 'Property_Area', 'Loan_Status']:\n",
    "  plt.figure(figsize=(7,5))\n",
    "  sns.countplot(x=loan_train[i],palette='Blues_d').set(title=f'distribution of {i} column')\n",
    "  sns.despine(top=True, right=True, left=False, bottom=False)\n",
    "  plt.show()"
   ]
  },
  {
   "cell_type": "code",
   "execution_count": 21,
   "metadata": {
    "id": "-IqcJyI8SHRK"
   },
   "outputs": [],
   "source": [
    "loan_train['Dependents'] = loan_train['Dependents'].replace(['3+'],3)"
   ]
  },
  {
   "cell_type": "code",
   "execution_count": 22,
   "metadata": {
    "id": "k3zpxzvOTHuj"
   },
   "outputs": [],
   "source": [
    "loan_train['Dependents']=loan_train['Dependents'].astype(int)"
   ]
  },
  {
   "cell_type": "code",
   "execution_count": 23,
   "metadata": {
    "colab": {
     "base_uri": "https://localhost:8080/"
    },
    "id": "4IHhozEjTWIY",
    "outputId": "b0a31f4f-b94b-4392-ea2e-1b2fc9df7f60"
   },
   "outputs": [
    {
     "name": "stdout",
     "output_type": "stream",
     "text": [
      "<class 'pandas.core.frame.DataFrame'>\n",
      "RangeIndex: 614 entries, 0 to 613\n",
      "Data columns (total 12 columns):\n",
      " #   Column             Non-Null Count  Dtype  \n",
      "---  ------             --------------  -----  \n",
      " 0   Gender             614 non-null    object \n",
      " 1   Married            614 non-null    object \n",
      " 2   Dependents         614 non-null    int32  \n",
      " 3   Education          614 non-null    object \n",
      " 4   Self_Employed      614 non-null    object \n",
      " 5   ApplicantIncome    614 non-null    int64  \n",
      " 6   CoapplicantIncome  614 non-null    float64\n",
      " 7   LoanAmount         614 non-null    float64\n",
      " 8   Loan_Amount_Term   614 non-null    float64\n",
      " 9   Credit_History     614 non-null    float64\n",
      " 10  Property_Area      614 non-null    object \n",
      " 11  Loan_Status        614 non-null    object \n",
      "dtypes: float64(4), int32(1), int64(1), object(6)\n",
      "memory usage: 55.3+ KB\n"
     ]
    }
   ],
   "source": [
    "loan_train.info()"
   ]
  },
  {
   "cell_type": "code",
   "execution_count": 24,
   "metadata": {
    "id": "JbEFu1YMTb2e"
   },
   "outputs": [],
   "source": [
    "loan_test['Dependents'] = loan_test['Dependents'].replace(['3+'],3)\n",
    "loan_test['Dependents']=loan_test['Dependents'].astype(int)"
   ]
  },
  {
   "cell_type": "code",
   "execution_count": 25,
   "metadata": {
    "colab": {
     "base_uri": "https://localhost:8080/"
    },
    "id": "bsq7gbluTkA5",
    "outputId": "9575567e-2f11-4355-e752-850fb242b71f"
   },
   "outputs": [
    {
     "name": "stdout",
     "output_type": "stream",
     "text": [
      "<class 'pandas.core.frame.DataFrame'>\n",
      "RangeIndex: 367 entries, 0 to 366\n",
      "Data columns (total 11 columns):\n",
      " #   Column             Non-Null Count  Dtype  \n",
      "---  ------             --------------  -----  \n",
      " 0   Gender             367 non-null    object \n",
      " 1   Married            367 non-null    object \n",
      " 2   Dependents         367 non-null    int32  \n",
      " 3   Education          367 non-null    object \n",
      " 4   Self_Employed      367 non-null    object \n",
      " 5   ApplicantIncome    367 non-null    int64  \n",
      " 6   CoapplicantIncome  367 non-null    int64  \n",
      " 7   LoanAmount         367 non-null    float64\n",
      " 8   Loan_Amount_Term   367 non-null    float64\n",
      " 9   Credit_History     367 non-null    float64\n",
      " 10  Property_Area      367 non-null    object \n",
      "dtypes: float64(3), int32(1), int64(2), object(5)\n",
      "memory usage: 30.2+ KB\n"
     ]
    }
   ],
   "source": [
    "loan_test.info()"
   ]
  },
  {
   "cell_type": "code",
   "execution_count": 26,
   "metadata": {
    "colab": {
     "base_uri": "https://localhost:8080/"
    },
    "id": "Kzh2e5J9WLrE",
    "outputId": "ede11e09-17b4-45ae-c8a0-5dd88a9bf056"
   },
   "outputs": [
    {
     "data": {
      "text/plain": [
       "Gender                 2\n",
       "Married                2\n",
       "Dependents             4\n",
       "Education              2\n",
       "Self_Employed          2\n",
       "ApplicantIncome      505\n",
       "CoapplicantIncome    287\n",
       "LoanAmount           204\n",
       "Loan_Amount_Term      10\n",
       "Credit_History         2\n",
       "Property_Area          3\n",
       "Loan_Status            2\n",
       "dtype: int64"
      ]
     },
     "execution_count": 26,
     "metadata": {},
     "output_type": "execute_result"
    }
   ],
   "source": [
    "loan_train.nunique()"
   ]
  },
  {
   "cell_type": "code",
   "execution_count": 27,
   "metadata": {
    "id": "jl93f1yfwFkv"
   },
   "outputs": [],
   "source": [
    "loan_train.Loan_Status = loan_train.Loan_Status.replace({\"Y\": 1, \"N\" : 0})\n",
    "\n",
    "gen_train=pd.get_dummies(loan_train[\"Gender\"])\n",
    "gen_test=pd.get_dummies(loan_test[\"Gender\"])\n",
    "\n",
    "mar_train=pd.get_dummies(loan_train[\"Married\"])\n",
    "mar_test=pd.get_dummies(loan_test[\"Married\"])\n",
    "\n",
    "edu_train=pd.get_dummies(loan_train[\"Education\"])\n",
    "edu_test=pd.get_dummies(loan_test[\"Education\"])\n",
    "\n",
    "emp_train=pd.get_dummies(loan_train[\"Self_Employed\"])\n",
    "emp_test=pd.get_dummies(loan_test[\"Self_Employed\"])\n",
    "\n",
    "cer_train=pd.get_dummies(loan_train[\"Credit_History\"])\n",
    "cer_test=pd.get_dummies(loan_test[\"Credit_History\"])\n",
    "\n",
    "prop_train=pd.get_dummies(loan_train[\"Property_Area\"])\n",
    "prop_test=pd.get_dummies(loan_test[\"Property_Area\"])"
   ]
  },
  {
   "cell_type": "code",
   "execution_count": 28,
   "metadata": {
    "id": "cePI_3_XcvD_"
   },
   "outputs": [],
   "source": [
    "loan_train=pd.concat([loan_train,gen_train,mar_train,edu_train,emp_train,cer_train,prop_train],axis=1)"
   ]
  },
  {
   "cell_type": "code",
   "execution_count": 29,
   "metadata": {
    "id": "_W8mUfZwd3lX"
   },
   "outputs": [],
   "source": [
    "loan_train=loan_train.drop(['Gender','Married','Education','Self_Employed','Credit_History','Property_Area'],axis=1)"
   ]
  },
  {
   "cell_type": "code",
   "execution_count": 30,
   "metadata": {
    "id": "eWIIsXDIdf-K"
   },
   "outputs": [],
   "source": [
    "loan_test=pd.concat([loan_test,gen_test,mar_test,edu_test,emp_test,cer_test,prop_test],axis=1)"
   ]
  },
  {
   "cell_type": "code",
   "execution_count": 31,
   "metadata": {
    "id": "vjcTBzXFeG-5"
   },
   "outputs": [],
   "source": [
    "loan_test=loan_test.drop(['Gender','Married','Education','Self_Employed','Credit_History','Property_Area'],axis=1)"
   ]
  },
  {
   "cell_type": "code",
   "execution_count": 32,
   "metadata": {
    "id": "VH96YgSHd0Hv"
   },
   "outputs": [],
   "source": [
    "loan_train['Dependents']=loan_train['Dependents']/max(loan_train['Dependents'])\n",
    "loan_train['ApplicantIncome']=loan_train['ApplicantIncome']/max(loan_train['ApplicantIncome'])\n",
    "loan_train['CoapplicantIncome']=loan_train['CoapplicantIncome']/max(loan_train['CoapplicantIncome'])\n",
    "loan_train['LoanAmount']=loan_train['LoanAmount']/max(loan_train['LoanAmount'])\n",
    "loan_train['Loan_Amount_Term']=loan_train['Loan_Amount_Term']/max(loan_train['Loan_Amount_Term'])"
   ]
  },
  {
   "cell_type": "code",
   "execution_count": 33,
   "metadata": {
    "colab": {
     "base_uri": "https://localhost:8080/",
     "height": 250
    },
    "id": "Y8voG6EafLKI",
    "outputId": "8d28b8ce-3d53-4f62-bc39-22ce05f46b1a"
   },
   "outputs": [
    {
     "data": {
      "text/html": [
       "<div>\n",
       "<style scoped>\n",
       "    .dataframe tbody tr th:only-of-type {\n",
       "        vertical-align: middle;\n",
       "    }\n",
       "\n",
       "    .dataframe tbody tr th {\n",
       "        vertical-align: top;\n",
       "    }\n",
       "\n",
       "    .dataframe thead th {\n",
       "        text-align: right;\n",
       "    }\n",
       "</style>\n",
       "<table border=\"1\" class=\"dataframe\">\n",
       "  <thead>\n",
       "    <tr style=\"text-align: right;\">\n",
       "      <th></th>\n",
       "      <th>Dependents</th>\n",
       "      <th>ApplicantIncome</th>\n",
       "      <th>CoapplicantIncome</th>\n",
       "      <th>LoanAmount</th>\n",
       "      <th>Loan_Amount_Term</th>\n",
       "      <th>Loan_Status</th>\n",
       "      <th>Female</th>\n",
       "      <th>Male</th>\n",
       "      <th>No</th>\n",
       "      <th>Yes</th>\n",
       "      <th>Graduate</th>\n",
       "      <th>Not Graduate</th>\n",
       "      <th>No</th>\n",
       "      <th>Yes</th>\n",
       "      <th>0.0</th>\n",
       "      <th>1.0</th>\n",
       "      <th>Rural</th>\n",
       "      <th>Semiurban</th>\n",
       "      <th>Urban</th>\n",
       "    </tr>\n",
       "  </thead>\n",
       "  <tbody>\n",
       "    <tr>\n",
       "      <th>0</th>\n",
       "      <td>0.000000</td>\n",
       "      <td>0.072210</td>\n",
       "      <td>0.000000</td>\n",
       "      <td>0.209160</td>\n",
       "      <td>0.75</td>\n",
       "      <td>1</td>\n",
       "      <td>0</td>\n",
       "      <td>1</td>\n",
       "      <td>1</td>\n",
       "      <td>0</td>\n",
       "      <td>1</td>\n",
       "      <td>0</td>\n",
       "      <td>1</td>\n",
       "      <td>0</td>\n",
       "      <td>0</td>\n",
       "      <td>1</td>\n",
       "      <td>0</td>\n",
       "      <td>0</td>\n",
       "      <td>1</td>\n",
       "    </tr>\n",
       "    <tr>\n",
       "      <th>1</th>\n",
       "      <td>0.333333</td>\n",
       "      <td>0.056580</td>\n",
       "      <td>0.036192</td>\n",
       "      <td>0.182857</td>\n",
       "      <td>0.75</td>\n",
       "      <td>0</td>\n",
       "      <td>0</td>\n",
       "      <td>1</td>\n",
       "      <td>0</td>\n",
       "      <td>1</td>\n",
       "      <td>1</td>\n",
       "      <td>0</td>\n",
       "      <td>1</td>\n",
       "      <td>0</td>\n",
       "      <td>0</td>\n",
       "      <td>1</td>\n",
       "      <td>1</td>\n",
       "      <td>0</td>\n",
       "      <td>0</td>\n",
       "    </tr>\n",
       "    <tr>\n",
       "      <th>2</th>\n",
       "      <td>0.000000</td>\n",
       "      <td>0.037037</td>\n",
       "      <td>0.000000</td>\n",
       "      <td>0.094286</td>\n",
       "      <td>0.75</td>\n",
       "      <td>1</td>\n",
       "      <td>0</td>\n",
       "      <td>1</td>\n",
       "      <td>0</td>\n",
       "      <td>1</td>\n",
       "      <td>1</td>\n",
       "      <td>0</td>\n",
       "      <td>0</td>\n",
       "      <td>1</td>\n",
       "      <td>0</td>\n",
       "      <td>1</td>\n",
       "      <td>0</td>\n",
       "      <td>0</td>\n",
       "      <td>1</td>\n",
       "    </tr>\n",
       "    <tr>\n",
       "      <th>3</th>\n",
       "      <td>0.000000</td>\n",
       "      <td>0.031889</td>\n",
       "      <td>0.056592</td>\n",
       "      <td>0.171429</td>\n",
       "      <td>0.75</td>\n",
       "      <td>1</td>\n",
       "      <td>0</td>\n",
       "      <td>1</td>\n",
       "      <td>0</td>\n",
       "      <td>1</td>\n",
       "      <td>0</td>\n",
       "      <td>1</td>\n",
       "      <td>1</td>\n",
       "      <td>0</td>\n",
       "      <td>0</td>\n",
       "      <td>1</td>\n",
       "      <td>0</td>\n",
       "      <td>0</td>\n",
       "      <td>1</td>\n",
       "    </tr>\n",
       "    <tr>\n",
       "      <th>4</th>\n",
       "      <td>0.000000</td>\n",
       "      <td>0.074074</td>\n",
       "      <td>0.000000</td>\n",
       "      <td>0.201429</td>\n",
       "      <td>0.75</td>\n",
       "      <td>1</td>\n",
       "      <td>0</td>\n",
       "      <td>1</td>\n",
       "      <td>1</td>\n",
       "      <td>0</td>\n",
       "      <td>1</td>\n",
       "      <td>0</td>\n",
       "      <td>1</td>\n",
       "      <td>0</td>\n",
       "      <td>0</td>\n",
       "      <td>1</td>\n",
       "      <td>0</td>\n",
       "      <td>0</td>\n",
       "      <td>1</td>\n",
       "    </tr>\n",
       "  </tbody>\n",
       "</table>\n",
       "</div>"
      ],
      "text/plain": [
       "   Dependents  ApplicantIncome  CoapplicantIncome  LoanAmount  \\\n",
       "0    0.000000         0.072210           0.000000    0.209160   \n",
       "1    0.333333         0.056580           0.036192    0.182857   \n",
       "2    0.000000         0.037037           0.000000    0.094286   \n",
       "3    0.000000         0.031889           0.056592    0.171429   \n",
       "4    0.000000         0.074074           0.000000    0.201429   \n",
       "\n",
       "   Loan_Amount_Term  Loan_Status  Female  Male  No  Yes  Graduate  \\\n",
       "0              0.75            1       0     1   1    0         1   \n",
       "1              0.75            0       0     1   0    1         1   \n",
       "2              0.75            1       0     1   0    1         1   \n",
       "3              0.75            1       0     1   0    1         0   \n",
       "4              0.75            1       0     1   1    0         1   \n",
       "\n",
       "   Not Graduate  No  Yes  0.0  1.0  Rural  Semiurban  Urban  \n",
       "0             0   1    0    0    1      0          0      1  \n",
       "1             0   1    0    0    1      1          0      0  \n",
       "2             0   0    1    0    1      0          0      1  \n",
       "3             1   1    0    0    1      0          0      1  \n",
       "4             0   1    0    0    1      0          0      1  "
      ]
     },
     "execution_count": 33,
     "metadata": {},
     "output_type": "execute_result"
    }
   ],
   "source": [
    "loan_train.head()"
   ]
  },
  {
   "cell_type": "code",
   "execution_count": 34,
   "metadata": {
    "id": "ICxT4jllfXtp"
   },
   "outputs": [],
   "source": [
    "loan_test['Dependents']=loan_test['Dependents']/max(loan_test['Dependents'])\n",
    "loan_test['ApplicantIncome']=loan_test['ApplicantIncome']/max(loan_test['ApplicantIncome'])\n",
    "loan_test['CoapplicantIncome']=loan_test['CoapplicantIncome']/max(loan_test['CoapplicantIncome'])\n",
    "loan_test['LoanAmount']=loan_test['LoanAmount']/max(loan_test['LoanAmount'])\n",
    "loan_test['Loan_Amount_Term']=loan_test['Loan_Amount_Term']/max(loan_test['Loan_Amount_Term'])"
   ]
  },
  {
   "cell_type": "code",
   "execution_count": 35,
   "metadata": {
    "colab": {
     "base_uri": "https://localhost:8080/",
     "height": 206
    },
    "id": "StmQ0GyPfxZo",
    "outputId": "3267ca74-ea7e-498d-c726-16a2fa14416d"
   },
   "outputs": [
    {
     "data": {
      "text/html": [
       "<div>\n",
       "<style scoped>\n",
       "    .dataframe tbody tr th:only-of-type {\n",
       "        vertical-align: middle;\n",
       "    }\n",
       "\n",
       "    .dataframe tbody tr th {\n",
       "        vertical-align: top;\n",
       "    }\n",
       "\n",
       "    .dataframe thead th {\n",
       "        text-align: right;\n",
       "    }\n",
       "</style>\n",
       "<table border=\"1\" class=\"dataframe\">\n",
       "  <thead>\n",
       "    <tr style=\"text-align: right;\">\n",
       "      <th></th>\n",
       "      <th>Dependents</th>\n",
       "      <th>ApplicantIncome</th>\n",
       "      <th>CoapplicantIncome</th>\n",
       "      <th>LoanAmount</th>\n",
       "      <th>Loan_Amount_Term</th>\n",
       "      <th>Female</th>\n",
       "      <th>Male</th>\n",
       "      <th>No</th>\n",
       "      <th>Yes</th>\n",
       "      <th>Graduate</th>\n",
       "      <th>Not Graduate</th>\n",
       "      <th>No</th>\n",
       "      <th>Yes</th>\n",
       "      <th>0.0</th>\n",
       "      <th>1.0</th>\n",
       "      <th>Rural</th>\n",
       "      <th>Semiurban</th>\n",
       "      <th>Urban</th>\n",
       "    </tr>\n",
       "  </thead>\n",
       "  <tbody>\n",
       "    <tr>\n",
       "      <th>0</th>\n",
       "      <td>0.000000</td>\n",
       "      <td>0.078865</td>\n",
       "      <td>0.000000</td>\n",
       "      <td>0.200000</td>\n",
       "      <td>0.75</td>\n",
       "      <td>0</td>\n",
       "      <td>1</td>\n",
       "      <td>0</td>\n",
       "      <td>1</td>\n",
       "      <td>1</td>\n",
       "      <td>0</td>\n",
       "      <td>1</td>\n",
       "      <td>0</td>\n",
       "      <td>0</td>\n",
       "      <td>1</td>\n",
       "      <td>0</td>\n",
       "      <td>0</td>\n",
       "      <td>1</td>\n",
       "    </tr>\n",
       "    <tr>\n",
       "      <th>1</th>\n",
       "      <td>0.333333</td>\n",
       "      <td>0.042411</td>\n",
       "      <td>0.062500</td>\n",
       "      <td>0.229091</td>\n",
       "      <td>0.75</td>\n",
       "      <td>0</td>\n",
       "      <td>1</td>\n",
       "      <td>0</td>\n",
       "      <td>1</td>\n",
       "      <td>1</td>\n",
       "      <td>0</td>\n",
       "      <td>1</td>\n",
       "      <td>0</td>\n",
       "      <td>0</td>\n",
       "      <td>1</td>\n",
       "      <td>0</td>\n",
       "      <td>0</td>\n",
       "      <td>1</td>\n",
       "    </tr>\n",
       "    <tr>\n",
       "      <th>2</th>\n",
       "      <td>0.666667</td>\n",
       "      <td>0.068938</td>\n",
       "      <td>0.075000</td>\n",
       "      <td>0.378182</td>\n",
       "      <td>0.75</td>\n",
       "      <td>0</td>\n",
       "      <td>1</td>\n",
       "      <td>0</td>\n",
       "      <td>1</td>\n",
       "      <td>1</td>\n",
       "      <td>0</td>\n",
       "      <td>1</td>\n",
       "      <td>0</td>\n",
       "      <td>0</td>\n",
       "      <td>1</td>\n",
       "      <td>0</td>\n",
       "      <td>0</td>\n",
       "      <td>1</td>\n",
       "    </tr>\n",
       "    <tr>\n",
       "      <th>3</th>\n",
       "      <td>0.666667</td>\n",
       "      <td>0.032263</td>\n",
       "      <td>0.106083</td>\n",
       "      <td>0.181818</td>\n",
       "      <td>0.75</td>\n",
       "      <td>0</td>\n",
       "      <td>1</td>\n",
       "      <td>0</td>\n",
       "      <td>1</td>\n",
       "      <td>1</td>\n",
       "      <td>0</td>\n",
       "      <td>1</td>\n",
       "      <td>0</td>\n",
       "      <td>0</td>\n",
       "      <td>1</td>\n",
       "      <td>0</td>\n",
       "      <td>0</td>\n",
       "      <td>1</td>\n",
       "    </tr>\n",
       "    <tr>\n",
       "      <th>4</th>\n",
       "      <td>0.000000</td>\n",
       "      <td>0.045168</td>\n",
       "      <td>0.000000</td>\n",
       "      <td>0.141818</td>\n",
       "      <td>0.75</td>\n",
       "      <td>0</td>\n",
       "      <td>1</td>\n",
       "      <td>1</td>\n",
       "      <td>0</td>\n",
       "      <td>0</td>\n",
       "      <td>1</td>\n",
       "      <td>1</td>\n",
       "      <td>0</td>\n",
       "      <td>0</td>\n",
       "      <td>1</td>\n",
       "      <td>0</td>\n",
       "      <td>0</td>\n",
       "      <td>1</td>\n",
       "    </tr>\n",
       "  </tbody>\n",
       "</table>\n",
       "</div>"
      ],
      "text/plain": [
       "   Dependents  ApplicantIncome  CoapplicantIncome  LoanAmount  \\\n",
       "0    0.000000         0.078865           0.000000    0.200000   \n",
       "1    0.333333         0.042411           0.062500    0.229091   \n",
       "2    0.666667         0.068938           0.075000    0.378182   \n",
       "3    0.666667         0.032263           0.106083    0.181818   \n",
       "4    0.000000         0.045168           0.000000    0.141818   \n",
       "\n",
       "   Loan_Amount_Term  Female  Male  No  Yes  Graduate  Not Graduate  No  Yes  \\\n",
       "0              0.75       0     1   0    1         1             0   1    0   \n",
       "1              0.75       0     1   0    1         1             0   1    0   \n",
       "2              0.75       0     1   0    1         1             0   1    0   \n",
       "3              0.75       0     1   0    1         1             0   1    0   \n",
       "4              0.75       0     1   1    0         0             1   1    0   \n",
       "\n",
       "   0.0  1.0  Rural  Semiurban  Urban  \n",
       "0    0    1      0          0      1  \n",
       "1    0    1      0          0      1  \n",
       "2    0    1      0          0      1  \n",
       "3    0    1      0          0      1  \n",
       "4    0    1      0          0      1  "
      ]
     },
     "execution_count": 35,
     "metadata": {},
     "output_type": "execute_result"
    }
   ],
   "source": [
    "loan_test.head()"
   ]
  },
  {
   "cell_type": "code",
   "execution_count": 36,
   "metadata": {
    "colab": {
     "base_uri": "https://localhost:8080/"
    },
    "id": "HuTa9s8of-I2",
    "outputId": "3d83ae03-86b6-4323-b542-3f5a6b42049e"
   },
   "outputs": [
    {
     "name": "stdout",
     "output_type": "stream",
     "text": [
      "(614, 19)\n",
      "(367, 18)\n"
     ]
    }
   ],
   "source": [
    "print( loan_train.shape)\n",
    "print(loan_test.shape)"
   ]
  },
  {
   "cell_type": "code",
   "execution_count": 47,
   "metadata": {
    "colab": {
     "base_uri": "https://localhost:8080/"
    },
    "id": "5Mg5nLYIwGhW",
    "outputId": "40358172-ea2c-4d9a-cf60-7c3e374ddd27",
    "scrolled": true
   },
   "outputs": [
    {
     "name": "stdout",
     "output_type": "stream",
     "text": [
      "(552, 18, 1)\n",
      "(552, 1, 1)\n"
     ]
    }
   ],
   "source": [
    "Y = np.array(loan_train[['Loan_Status']])\n",
    "X = np.array(loan_train.drop('Loan_Status',axis=1))\n",
    "X_train = X[0:552,:]\n",
    "y_train = Y[0:552,:]\n",
    "x = X_train.reshape(X_train.shape[0], X_train.shape[1], 1)\n",
    "y = y_train.reshape(y_train.shape[0], 1, 1)\n",
    "print(x.shape)\n",
    "print(y.shape)"
   ]
  },
  {
   "cell_type": "markdown",
   "metadata": {},
   "source": [
    "## Classification with the model we wrote"
   ]
  },
  {
   "cell_type": "code",
   "execution_count": 48,
   "metadata": {
    "colab": {
     "base_uri": "https://localhost:8080/"
    },
    "id": "bluaswxxwHhr",
    "outputId": "0d074885-7c29-47a0-e924-fc2fda36102d"
   },
   "outputs": [
    {
     "name": "stdout",
     "output_type": "stream",
     "text": [
      "1/100, error=0.8161297841658882\n",
      "2/100, error=0.7081345660116465\n",
      "3/100, error=0.6569141261921364\n",
      "4/100, error=0.629274783105168\n",
      "5/100, error=0.6140812805832634\n",
      "6/100, error=0.6051482461705369\n",
      "7/100, error=0.5996051813768919\n",
      "8/100, error=0.5959948056545588\n",
      "9/100, error=0.5933406870955561\n",
      "10/100, error=0.5911319047902833\n",
      "11/100, error=0.5891148489130592\n",
      "12/100, error=0.5871648176806582\n",
      "13/100, error=0.585217232590153\n",
      "14/100, error=0.5832253754293905\n",
      "15/100, error=0.581136629310759\n",
      "16/100, error=0.5788790698950589\n",
      "17/100, error=0.576371932961795\n",
      "18/100, error=0.5735742358167203\n",
      "19/100, error=0.5704703523610769\n",
      "20/100, error=0.5670497524447764\n",
      "21/100, error=0.5634339608716004\n",
      "22/100, error=0.5598651009172172\n",
      "23/100, error=0.556441704198462\n",
      "24/100, error=0.5531569894374252\n",
      "25/100, error=0.5500173688349999\n",
      "26/100, error=0.547028464685276\n",
      "27/100, error=0.5442985371433903\n",
      "28/100, error=0.5418515273650063\n",
      "29/100, error=0.5396293507627006\n",
      "30/100, error=0.5375542693477695\n",
      "31/100, error=0.5355434057905454\n",
      "32/100, error=0.533544715763835\n",
      "33/100, error=0.5315326514995945\n",
      "34/100, error=0.5295011477760732\n",
      "35/100, error=0.5274852142302616\n",
      "36/100, error=0.5255630573228974\n",
      "37/100, error=0.5237922906367934\n",
      "38/100, error=0.5221688614037366\n",
      "39/100, error=0.5206562959457295\n",
      "40/100, error=0.5192111466040338\n",
      "41/100, error=0.5177827095165481\n",
      "42/100, error=0.5163165174148681\n",
      "43/100, error=0.5148012822500097\n",
      "44/100, error=0.5133181811023194\n",
      "45/100, error=0.5119328966680953\n",
      "46/100, error=0.5106578129059973\n",
      "47/100, error=0.5094996814317758\n",
      "48/100, error=0.5084451395457569\n",
      "49/100, error=0.5074714939572204\n",
      "50/100, error=0.5065614216215505\n",
      "51/100, error=0.5057041051912043\n",
      "52/100, error=0.504892168555586\n",
      "53/100, error=0.5041197762176224\n",
      "54/100, error=0.5033819358792018\n",
      "55/100, error=0.5026741876672756\n",
      "56/100, error=0.501992381319134\n",
      "57/100, error=0.5013325331959004\n",
      "58/100, error=0.5006908084673571\n",
      "59/100, error=0.5000636542268443\n",
      "60/100, error=0.4994480418770783\n",
      "61/100, error=0.4988416822046301\n",
      "62/100, error=0.49824304743955056\n",
      "63/100, error=0.49765114363633256\n",
      "64/100, error=0.4970651514047152\n",
      "65/100, error=0.49648415015862696\n",
      "66/100, error=0.49590712095163214\n",
      "67/100, error=0.495333345659332\n",
      "68/100, error=0.49476318654741397\n",
      "69/100, error=0.4941989300573909\n",
      "70/100, error=0.4936449718163456\n",
      "71/100, error=0.49310672408376693\n",
      "72/100, error=0.49258871714310126\n",
      "73/100, error=0.4920932799796765\n",
      "74/100, error=0.4916205263163279\n",
      "75/100, error=0.4911691469490864\n",
      "76/100, error=0.49073723842184924\n",
      "77/100, error=0.49032282935880256\n",
      "78/100, error=0.4899241205618086\n",
      "79/100, error=0.4895395537263354\n",
      "80/100, error=0.48916780116539627\n",
      "81/100, error=0.48880772847541143\n",
      "82/100, error=0.4884583542075649\n",
      "83/100, error=0.4881188157324862\n",
      "84/100, error=0.48778834351357847\n",
      "85/100, error=0.48746624308481995\n",
      "86/100, error=0.48715188303934964\n",
      "87/100, error=0.4868446872235304\n",
      "88/100, error=0.48654412958827864\n",
      "89/100, error=0.48624973052680304\n",
      "90/100, error=0.485961053904572\n",
      "91/100, error=0.48567770430858376\n",
      "92/100, error=0.4853993242891367\n",
      "93/100, error=0.4851255915370587\n",
      "94/100, error=0.4848562160408684\n",
      "95/100, error=0.4845909373142294\n",
      "96/100, error=0.4843295217891722\n",
      "97/100, error=0.48407176044959827\n",
      "98/100, error=0.4838174667460873\n",
      "99/100, error=0.48356647479739895\n",
      "100/100, error=0.48331863785347084\n"
     ]
    }
   ],
   "source": [
    "network = [\n",
    "    FCLayer(18, 16),\n",
    "    ActivationLayer(tanh, tanh_prime),\n",
    "    FCLayer(16, 8),\n",
    "    ActivationLayer(tanh, tanh_prime),\n",
    "    FCLayer(8, 4),\n",
    "    ActivationLayer(tanh, tanh_prime),\n",
    "    FCLayer(4, 2),\n",
    "    ActivationLayer(tanh, tanh_prime),\n",
    "    FCLayer(2, 1),\n",
    "    ActivationLayer(sigmoid, sigmoid_prime)\n",
    "]\n",
    "\n",
    "# train\n",
    "train(network, lg, lg_prime, x, y, epochs=100, learning_rate=0.001) "
   ]
  },
  {
   "cell_type": "code",
   "execution_count": 49,
   "metadata": {
    "colab": {
     "base_uri": "https://localhost:8080/"
    },
    "id": "u70xg8gfwL4e",
    "outputId": "7e6c94f1-a6d0-409a-cbeb-8ce34254eb9d"
   },
   "outputs": [],
   "source": [
    "X_test = X[553:,:]\n",
    "Y_test = Y[553:,:]\n",
    "x_test = X_test.reshape(X_test.shape[0], X_test.shape[1], 1)\n",
    "y_test = Y_test.reshape(Y_test.shape[0], 1, 1)\n",
    "#x_test = X_test.reshape(X_test.shape[0], X_test.shape[1], 1)\n",
    "pred = []\n",
    "for x in x_test:\n",
    "    output = test(network, x)\n",
    "    prediction = np.where(output > 0.5, 1, 0)\n",
    "    pred.append(prediction)\n",
    "y_hat = np.array(pred)"
   ]
  },
  {
   "cell_type": "code",
   "execution_count": 50,
   "metadata": {},
   "outputs": [
    {
     "data": {
      "text/plain": [
       "83.60655737704919"
      ]
     },
     "execution_count": 50,
     "metadata": {},
     "output_type": "execute_result"
    }
   ],
   "source": [
    "100 - np.sum(abs(y_hat-y_test))/y_hat.shape[0]*100"
   ]
  },
  {
   "cell_type": "code",
   "execution_count": 51,
   "metadata": {},
   "outputs": [
    {
     "name": "stdout",
     "output_type": "stream",
     "text": [
      "(614, 17)\n",
      "(614, 1)\n"
     ]
    }
   ],
   "source": [
    "Y = np.array(loan_train[['LoanAmount']])\n",
    "X = np.array(loan_train.drop(['Loan_Status','LoanAmount'],axis=1))\n",
    "x = X.reshape(X.shape[0], X.shape[1], 1)\n",
    "y = Y.reshape(Y.shape[0], 1, 1)\n",
    "print(X.shape)\n",
    "print(Y.shape)"
   ]
  },
  {
   "cell_type": "markdown",
   "metadata": {},
   "source": [
    "# Regression with the model we wrote"
   ]
  },
  {
   "cell_type": "code",
   "execution_count": 52,
   "metadata": {},
   "outputs": [
    {
     "name": "stdout",
     "output_type": "stream",
     "text": [
      "1/100, error=0.026467586973912112\n",
      "2/100, error=0.02054588638284492\n",
      "3/100, error=0.020492419735201602\n",
      "4/100, error=0.020440642417459725\n",
      "5/100, error=0.020392804162560785\n",
      "6/100, error=0.02033836180099685\n",
      "7/100, error=0.02025749932565118\n",
      "8/100, error=0.02010243347997727\n",
      "9/100, error=0.019936745004913332\n",
      "10/100, error=0.01985634600142952\n",
      "11/100, error=0.019801513193542456\n",
      "12/100, error=0.019753341175795355\n",
      "13/100, error=0.01970769042068609\n",
      "14/100, error=0.019664905611929198\n",
      "15/100, error=0.019618113235820783\n",
      "16/100, error=0.019562804778036548\n",
      "17/100, error=0.019500352232464\n",
      "18/100, error=0.019431769101427326\n",
      "19/100, error=0.01936307639372592\n",
      "20/100, error=0.019309080074170707\n",
      "21/100, error=0.019265094316852964\n",
      "22/100, error=0.019215588128747123\n",
      "23/100, error=0.019161862629993077\n",
      "24/100, error=0.019104740383564692\n",
      "25/100, error=0.019051229770182792\n",
      "26/100, error=0.019005733446775926\n",
      "27/100, error=0.01896102760222322\n",
      "28/100, error=0.018909196069334097\n",
      "29/100, error=0.018843752168082893\n",
      "30/100, error=0.01875354302466804\n",
      "31/100, error=0.01864107492675801\n",
      "32/100, error=0.01849257550106473\n",
      "33/100, error=0.018241306782728464\n",
      "34/100, error=0.017999316028009523\n",
      "35/100, error=0.017956581140102793\n",
      "36/100, error=0.01790556667058371\n",
      "37/100, error=0.0179808309933437\n",
      "38/100, error=0.01791220905028945\n",
      "39/100, error=0.017891883246097712\n",
      "40/100, error=0.018192022516006018\n",
      "41/100, error=0.018124988393994443\n",
      "42/100, error=0.017918248955711008\n",
      "43/100, error=0.01794679039253753\n",
      "44/100, error=0.017923470714708775\n",
      "45/100, error=0.01791573070627588\n",
      "46/100, error=0.01790240230838854\n",
      "47/100, error=0.017889894476511042\n",
      "48/100, error=0.01787553670770013\n",
      "49/100, error=0.017859822450416295\n",
      "50/100, error=0.01784220903760125\n",
      "51/100, error=0.01782254570930612\n",
      "52/100, error=0.017800628681882147\n",
      "53/100, error=0.017776349866268238\n",
      "54/100, error=0.017749643406574218\n",
      "55/100, error=0.01772046770744747\n",
      "56/100, error=0.017688790787441344\n",
      "57/100, error=0.017654614918501982\n",
      "58/100, error=0.01761803639258582\n",
      "59/100, error=0.017579315289878723\n",
      "60/100, error=0.017538922616741087\n",
      "61/100, error=0.017497506668294603\n",
      "62/100, error=0.017455733309717517\n",
      "63/100, error=0.017414060453474257\n",
      "64/100, error=0.017372580017918884\n",
      "65/100, error=0.017331059299943774\n",
      "66/100, error=0.017289179239706506\n",
      "67/100, error=0.017246733190971374\n",
      "68/100, error=0.017203736654084\n",
      "69/100, error=0.01716029637579967\n",
      "70/100, error=0.017116364376023836\n",
      "71/100, error=0.017071771579257038\n",
      "72/100, error=0.017026537900683713\n",
      "73/100, error=0.01698528882008129\n",
      "74/100, error=0.016953357430380414\n",
      "75/100, error=0.016899864452111342\n",
      "76/100, error=0.016885665726778375\n",
      "77/100, error=0.016842257415512818\n",
      "78/100, error=0.0175435698587695\n",
      "79/100, error=0.016955994959212742\n",
      "80/100, error=0.016857924091381683\n",
      "81/100, error=0.017894278931264364\n",
      "82/100, error=0.016955931709705736\n",
      "83/100, error=0.01679678372565466\n",
      "84/100, error=0.016662807151684323\n",
      "85/100, error=0.01669329454724039\n",
      "86/100, error=0.01732773005980346\n",
      "87/100, error=0.01661790483628441\n",
      "88/100, error=0.016403878981902178\n",
      "89/100, error=0.01627541922022548\n",
      "90/100, error=0.016359151722976296\n",
      "91/100, error=0.016062159991703302\n",
      "92/100, error=0.016225975038162244\n",
      "93/100, error=0.015937732487442822\n",
      "94/100, error=0.017002290679043526\n",
      "95/100, error=0.01599619825281727\n",
      "96/100, error=0.01597822419133338\n",
      "97/100, error=0.016039809311893534\n",
      "98/100, error=0.01574067986521233\n",
      "99/100, error=0.016568965250072083\n",
      "100/100, error=0.015788464157109196\n"
     ]
    }
   ],
   "source": [
    "network = [\n",
    "    FCLayer(17, 16),\n",
    "    ActivationLayer(tanh, tanh_prime),\n",
    "    FCLayer(16, 8),\n",
    "    ActivationLayer(tanh, tanh_prime),\n",
    "    FCLayer(8, 4),\n",
    "    ActivationLayer(tanh, tanh_prime),\n",
    "    FCLayer(4, 2),\n",
    "    ActivationLayer(tanh, tanh_prime),\n",
    "    FCLayer(2, 1)\n",
    "]\n",
    "\n",
    "# train\n",
    "train(network, mse, mse_prime, x, y, epochs=100, learning_rate=0.1)"
   ]
  },
  {
   "cell_type": "code",
   "execution_count": 53,
   "metadata": {},
   "outputs": [
    {
     "data": {
      "text/plain": [
       "(367, 17)"
      ]
     },
     "execution_count": 53,
     "metadata": {},
     "output_type": "execute_result"
    }
   ],
   "source": [
    "Y_test = np.array(loan_test[['LoanAmount']])\n",
    "X_test = np.array(loan_test.drop(['LoanAmount'],axis=1))\n",
    "X_test.shape"
   ]
  },
  {
   "cell_type": "code",
   "execution_count": 54,
   "metadata": {},
   "outputs": [],
   "source": [
    "x_test = X_test.reshape(X_test.shape[0], X_test.shape[1], 1)\n",
    "y_test = Y_test.reshape(Y_test.shape[0], 1, 1)\n",
    "pred = []\n",
    "for x in x_test:\n",
    "    output = test(network, x)\n",
    "    pred.append(output)\n",
    "y_hat = np.array(pred)"
   ]
  },
  {
   "cell_type": "code",
   "execution_count": 55,
   "metadata": {},
   "outputs": [
    {
     "data": {
      "text/plain": [
       "0.014516528719760741"
      ]
     },
     "execution_count": 55,
     "metadata": {},
     "output_type": "execute_result"
    }
   ],
   "source": [
    "error = mse(y_test,y_hat)\n",
    "error"
   ]
  },
  {
   "cell_type": "code",
   "execution_count": 56,
   "metadata": {},
   "outputs": [
    {
     "data": {
      "text/plain": [
       "91.19540606638616"
      ]
     },
     "execution_count": 56,
     "metadata": {},
     "output_type": "execute_result"
    }
   ],
   "source": [
    "100 - np.sum(abs(y_hat-y_test))/y_hat.shape[0]*100"
   ]
  },
  {
   "cell_type": "markdown",
   "metadata": {},
   "source": [
    "### Implementing the classification and Regression tasks with the tensorflow library"
   ]
  },
  {
   "cell_type": "code",
   "execution_count": 57,
   "metadata": {},
   "outputs": [],
   "source": [
    "import tensorflow as tf\n",
    "from tensorflow.keras.models import Sequential\n",
    "from tensorflow.keras.layers import Dense, Flatten"
   ]
  },
  {
   "cell_type": "code",
   "execution_count": 58,
   "metadata": {},
   "outputs": [],
   "source": [
    "def classification_model_config():\n",
    "    model = Sequential([\n",
    "      Dense(18, activation='tanh',input_shape=(x_train.shape[1],)),\n",
    "      Dense(8, activation='tanh'),\n",
    "      Dense(4, activation='tanh'),\n",
    "      Dense(2, activation='tanh'),\n",
    "      Dense(1, activation='sigmoid')\n",
    "    ])\n",
    "    \n",
    "    return model"
   ]
  },
  {
   "cell_type": "code",
   "execution_count": 86,
   "metadata": {},
   "outputs": [
    {
     "name": "stdout",
     "output_type": "stream",
     "text": [
      "(614,)\n",
      "(614, 17)\n"
     ]
    }
   ],
   "source": [
    "y_train_reg=loan_train['LoanAmount']\n",
    "x_train_reg=loan_train.drop(['LoanAmount','Loan_Status'],axis=1)\n",
    "print(y_train_reg.shape)\n",
    "print(x_train_reg.shape)"
   ]
  },
  {
   "cell_type": "code",
   "execution_count": 87,
   "metadata": {},
   "outputs": [],
   "source": [
    "def regression_model_config():\n",
    "    model = Sequential([\n",
    "      Dense(18, activation='tanh',input_shape=(x_train_reg.shape[1],)),\n",
    "      Dense(8, activation='tanh'),\n",
    "      Dense(4, activation='tanh'),\n",
    "      Dense(2, activation='tanh'),\n",
    "      Dense(1, activation='linear')\n",
    "    ])\n",
    "    \n",
    "    return model"
   ]
  },
  {
   "cell_type": "code",
   "execution_count": 105,
   "metadata": {},
   "outputs": [],
   "source": [
    "def comp(model,lr=0.01,reg=True):\n",
    "    \n",
    "    opt=tf.keras.optimizers.SGD(learning_rate=lr)\n",
    "    acc=tf.keras.metrics.BinaryAccuracy()\n",
    "    if reg:\n",
    "        model.compile(optimizer=opt,loss='mean_squared_error')\n",
    "        \n",
    "    else:\n",
    "\n",
    "        model.compile(optimizer=opt,loss='binary_crossentropy', metrics=acc)\n",
    "    \n",
    "    return model\n",
    "    "
   ]
  },
  {
   "cell_type": "code",
   "execution_count": 106,
   "metadata": {},
   "outputs": [
    {
     "name": "stdout",
     "output_type": "stream",
     "text": [
      "(614,)\n",
      "(614, 18)\n"
     ]
    }
   ],
   "source": [
    "y_train=loan_train['Loan_Status']\n",
    "x_train=loan_train.drop('Loan_Status',axis=1)\n",
    "print(y_train.shape)\n",
    "print(x_train.shape)"
   ]
  },
  {
   "cell_type": "code",
   "execution_count": 113,
   "metadata": {},
   "outputs": [],
   "source": [
    "def fit_model(model,epoch,x,y):\n",
    "    \n",
    "    history = model.fit(x, y, epochs=epoch, validation_split=0.1)\n",
    "    \n",
    "    return history\n",
    "    "
   ]
  },
  {
   "cell_type": "code",
   "execution_count": 114,
   "metadata": {},
   "outputs": [],
   "source": [
    "def plot_model(history):\n",
    "    DF=pd.DataFrame(history.history)\n",
    "    plt.plot(DF[\"loss\"])\n",
    "    plt.plot(DF[\"val_loss\"])\n",
    "    plt.title(\"model loss vs epoch\")\n",
    "    plt.ylabel(\"loss\")\n",
    "    plt.xlabel(\"epoch\")\n",
    "    plt.legend([\"train\", \"hold out\"], loc=\"upper right\")\n",
    "    plt.show()"
   ]
  },
  {
   "cell_type": "code",
   "execution_count": 122,
   "metadata": {},
   "outputs": [
    {
     "name": "stdout",
     "output_type": "stream",
     "text": [
      "Epoch 1/100\n",
      "18/18 [==============================] - 1s 14ms/step - loss: 0.6695 - binary_accuracy: 0.5833 - val_loss: 0.6800 - val_binary_accuracy: 0.5645\n",
      "Epoch 2/100\n",
      "18/18 [==============================] - 0s 4ms/step - loss: 0.6496 - binary_accuracy: 0.5924 - val_loss: 0.6604 - val_binary_accuracy: 0.5968\n",
      "Epoch 3/100\n",
      "18/18 [==============================] - 0s 4ms/step - loss: 0.6325 - binary_accuracy: 0.6141 - val_loss: 0.6432 - val_binary_accuracy: 0.6129\n",
      "Epoch 4/100\n",
      "18/18 [==============================] - 0s 5ms/step - loss: 0.6180 - binary_accuracy: 0.6268 - val_loss: 0.6294 - val_binary_accuracy: 0.6452\n",
      "Epoch 5/100\n",
      "18/18 [==============================] - 0s 4ms/step - loss: 0.6066 - binary_accuracy: 0.6612 - val_loss: 0.6189 - val_binary_accuracy: 0.7097\n",
      "Epoch 6/100\n",
      "18/18 [==============================] - 0s 4ms/step - loss: 0.5980 - binary_accuracy: 0.6793 - val_loss: 0.6102 - val_binary_accuracy: 0.7097\n",
      "Epoch 7/100\n",
      "18/18 [==============================] - 0s 4ms/step - loss: 0.5910 - binary_accuracy: 0.6920 - val_loss: 0.6035 - val_binary_accuracy: 0.7258\n",
      "Epoch 8/100\n",
      "18/18 [==============================] - 0s 4ms/step - loss: 0.5856 - binary_accuracy: 0.7065 - val_loss: 0.5974 - val_binary_accuracy: 0.7581\n",
      "Epoch 9/100\n",
      "18/18 [==============================] - 0s 4ms/step - loss: 0.5808 - binary_accuracy: 0.7264 - val_loss: 0.5932 - val_binary_accuracy: 0.7419\n",
      "Epoch 10/100\n",
      "18/18 [==============================] - 0s 4ms/step - loss: 0.5774 - binary_accuracy: 0.7409 - val_loss: 0.5892 - val_binary_accuracy: 0.7742\n",
      "Epoch 11/100\n",
      "18/18 [==============================] - 0s 5ms/step - loss: 0.5742 - binary_accuracy: 0.7409 - val_loss: 0.5857 - val_binary_accuracy: 0.7903\n",
      "Epoch 12/100\n",
      "18/18 [==============================] - 0s 5ms/step - loss: 0.5715 - binary_accuracy: 0.7391 - val_loss: 0.5828 - val_binary_accuracy: 0.7903\n",
      "Epoch 13/100\n",
      "18/18 [==============================] - 0s 5ms/step - loss: 0.5691 - binary_accuracy: 0.7446 - val_loss: 0.5801 - val_binary_accuracy: 0.7903\n",
      "Epoch 14/100\n",
      "18/18 [==============================] - 0s 8ms/step - loss: 0.5670 - binary_accuracy: 0.7446 - val_loss: 0.5778 - val_binary_accuracy: 0.7581\n",
      "Epoch 15/100\n",
      "18/18 [==============================] - 0s 5ms/step - loss: 0.5651 - binary_accuracy: 0.7464 - val_loss: 0.5756 - val_binary_accuracy: 0.7581\n",
      "Epoch 16/100\n",
      "18/18 [==============================] - 0s 6ms/step - loss: 0.5634 - binary_accuracy: 0.7446 - val_loss: 0.5741 - val_binary_accuracy: 0.7581\n",
      "Epoch 17/100\n",
      "18/18 [==============================] - 0s 6ms/step - loss: 0.5622 - binary_accuracy: 0.7446 - val_loss: 0.5725 - val_binary_accuracy: 0.7581\n",
      "Epoch 18/100\n",
      "18/18 [==============================] - 0s 4ms/step - loss: 0.5609 - binary_accuracy: 0.7446 - val_loss: 0.5711 - val_binary_accuracy: 0.7581\n",
      "Epoch 19/100\n",
      "18/18 [==============================] - 0s 4ms/step - loss: 0.5598 - binary_accuracy: 0.7464 - val_loss: 0.5699 - val_binary_accuracy: 0.7742\n",
      "Epoch 20/100\n",
      "18/18 [==============================] - 0s 6ms/step - loss: 0.5588 - binary_accuracy: 0.7482 - val_loss: 0.5686 - val_binary_accuracy: 0.7742\n",
      "Epoch 21/100\n",
      "18/18 [==============================] - 0s 7ms/step - loss: 0.5577 - binary_accuracy: 0.7482 - val_loss: 0.5675 - val_binary_accuracy: 0.7742\n",
      "Epoch 22/100\n",
      "18/18 [==============================] - 0s 9ms/step - loss: 0.5569 - binary_accuracy: 0.7482 - val_loss: 0.5663 - val_binary_accuracy: 0.7581\n",
      "Epoch 23/100\n",
      "18/18 [==============================] - 0s 8ms/step - loss: 0.5559 - binary_accuracy: 0.7482 - val_loss: 0.5652 - val_binary_accuracy: 0.7581\n",
      "Epoch 24/100\n",
      "18/18 [==============================] - 0s 5ms/step - loss: 0.5550 - binary_accuracy: 0.7482 - val_loss: 0.5643 - val_binary_accuracy: 0.7581\n",
      "Epoch 25/100\n",
      "18/18 [==============================] - 0s 6ms/step - loss: 0.5542 - binary_accuracy: 0.7482 - val_loss: 0.5633 - val_binary_accuracy: 0.7581\n",
      "Epoch 26/100\n",
      "18/18 [==============================] - 0s 5ms/step - loss: 0.5534 - binary_accuracy: 0.7482 - val_loss: 0.5624 - val_binary_accuracy: 0.7581\n",
      "Epoch 27/100\n",
      "18/18 [==============================] - 0s 7ms/step - loss: 0.5527 - binary_accuracy: 0.7500 - val_loss: 0.5615 - val_binary_accuracy: 0.7742\n",
      "Epoch 28/100\n",
      "18/18 [==============================] - 0s 6ms/step - loss: 0.5520 - binary_accuracy: 0.7500 - val_loss: 0.5607 - val_binary_accuracy: 0.7742\n",
      "Epoch 29/100\n",
      "18/18 [==============================] - 0s 5ms/step - loss: 0.5513 - binary_accuracy: 0.7500 - val_loss: 0.5599 - val_binary_accuracy: 0.7742\n",
      "Epoch 30/100\n",
      "18/18 [==============================] - 0s 8ms/step - loss: 0.5506 - binary_accuracy: 0.7500 - val_loss: 0.5590 - val_binary_accuracy: 0.7742\n",
      "Epoch 31/100\n",
      "18/18 [==============================] - 0s 6ms/step - loss: 0.5499 - binary_accuracy: 0.7500 - val_loss: 0.5582 - val_binary_accuracy: 0.7742\n",
      "Epoch 32/100\n",
      "18/18 [==============================] - 0s 5ms/step - loss: 0.5493 - binary_accuracy: 0.7500 - val_loss: 0.5574 - val_binary_accuracy: 0.7742\n",
      "Epoch 33/100\n",
      "18/18 [==============================] - 0s 7ms/step - loss: 0.5486 - binary_accuracy: 0.7500 - val_loss: 0.5566 - val_binary_accuracy: 0.7742\n",
      "Epoch 34/100\n",
      "18/18 [==============================] - 0s 5ms/step - loss: 0.5480 - binary_accuracy: 0.7500 - val_loss: 0.5559 - val_binary_accuracy: 0.7742\n",
      "Epoch 35/100\n",
      "18/18 [==============================] - 0s 5ms/step - loss: 0.5473 - binary_accuracy: 0.7518 - val_loss: 0.5551 - val_binary_accuracy: 0.7581\n",
      "Epoch 36/100\n",
      "18/18 [==============================] - 0s 8ms/step - loss: 0.5467 - binary_accuracy: 0.7500 - val_loss: 0.5543 - val_binary_accuracy: 0.7742\n",
      "Epoch 37/100\n",
      "18/18 [==============================] - 0s 6ms/step - loss: 0.5461 - binary_accuracy: 0.7500 - val_loss: 0.5536 - val_binary_accuracy: 0.7742\n",
      "Epoch 38/100\n",
      "18/18 [==============================] - 0s 6ms/step - loss: 0.5455 - binary_accuracy: 0.7536 - val_loss: 0.5529 - val_binary_accuracy: 0.7742\n",
      "Epoch 39/100\n",
      "18/18 [==============================] - 0s 7ms/step - loss: 0.5449 - binary_accuracy: 0.7536 - val_loss: 0.5522 - val_binary_accuracy: 0.7742\n",
      "Epoch 40/100\n",
      "18/18 [==============================] - 0s 5ms/step - loss: 0.5444 - binary_accuracy: 0.7536 - val_loss: 0.5514 - val_binary_accuracy: 0.7742\n",
      "Epoch 41/100\n",
      "18/18 [==============================] - 0s 5ms/step - loss: 0.5438 - binary_accuracy: 0.7536 - val_loss: 0.5507 - val_binary_accuracy: 0.7742\n",
      "Epoch 42/100\n",
      "18/18 [==============================] - 0s 6ms/step - loss: 0.5432 - binary_accuracy: 0.7536 - val_loss: 0.5500 - val_binary_accuracy: 0.7742\n",
      "Epoch 43/100\n",
      "18/18 [==============================] - 0s 6ms/step - loss: 0.5426 - binary_accuracy: 0.7536 - val_loss: 0.5493 - val_binary_accuracy: 0.7742\n",
      "Epoch 44/100\n",
      "18/18 [==============================] - 0s 5ms/step - loss: 0.5420 - binary_accuracy: 0.7536 - val_loss: 0.5486 - val_binary_accuracy: 0.7742\n",
      "Epoch 45/100\n",
      "18/18 [==============================] - 0s 5ms/step - loss: 0.5415 - binary_accuracy: 0.7536 - val_loss: 0.5479 - val_binary_accuracy: 0.7742\n",
      "Epoch 46/100\n",
      "18/18 [==============================] - 0s 7ms/step - loss: 0.5409 - binary_accuracy: 0.7554 - val_loss: 0.5472 - val_binary_accuracy: 0.7742\n",
      "Epoch 47/100\n",
      "18/18 [==============================] - 0s 5ms/step - loss: 0.5403 - binary_accuracy: 0.7554 - val_loss: 0.5465 - val_binary_accuracy: 0.7742\n",
      "Epoch 48/100\n",
      "18/18 [==============================] - 0s 6ms/step - loss: 0.5397 - binary_accuracy: 0.7554 - val_loss: 0.5459 - val_binary_accuracy: 0.7742\n",
      "Epoch 49/100\n",
      "18/18 [==============================] - 0s 5ms/step - loss: 0.5392 - binary_accuracy: 0.7554 - val_loss: 0.5452 - val_binary_accuracy: 0.7742\n",
      "Epoch 50/100\n",
      "18/18 [==============================] - 0s 8ms/step - loss: 0.5387 - binary_accuracy: 0.7554 - val_loss: 0.5446 - val_binary_accuracy: 0.7742\n",
      "Epoch 51/100\n",
      "18/18 [==============================] - 0s 7ms/step - loss: 0.5381 - binary_accuracy: 0.7554 - val_loss: 0.5439 - val_binary_accuracy: 0.7742\n",
      "Epoch 52/100\n",
      "18/18 [==============================] - 0s 6ms/step - loss: 0.5375 - binary_accuracy: 0.7554 - val_loss: 0.5432 - val_binary_accuracy: 0.7742\n",
      "Epoch 53/100\n"
     ]
    },
    {
     "name": "stdout",
     "output_type": "stream",
     "text": [
      "18/18 [==============================] - 0s 6ms/step - loss: 0.5370 - binary_accuracy: 0.7554 - val_loss: 0.5426 - val_binary_accuracy: 0.7742\n",
      "Epoch 54/100\n",
      "18/18 [==============================] - 0s 6ms/step - loss: 0.5364 - binary_accuracy: 0.7591 - val_loss: 0.5420 - val_binary_accuracy: 0.7742\n",
      "Epoch 55/100\n",
      "18/18 [==============================] - 0s 6ms/step - loss: 0.5359 - binary_accuracy: 0.7609 - val_loss: 0.5413 - val_binary_accuracy: 0.7742\n",
      "Epoch 56/100\n",
      "18/18 [==============================] - 0s 6ms/step - loss: 0.5354 - binary_accuracy: 0.7609 - val_loss: 0.5405 - val_binary_accuracy: 0.7742\n",
      "Epoch 57/100\n",
      "18/18 [==============================] - 0s 6ms/step - loss: 0.5347 - binary_accuracy: 0.7609 - val_loss: 0.5399 - val_binary_accuracy: 0.7742\n",
      "Epoch 58/100\n",
      "18/18 [==============================] - 0s 6ms/step - loss: 0.5342 - binary_accuracy: 0.7663 - val_loss: 0.5394 - val_binary_accuracy: 0.7742\n",
      "Epoch 59/100\n",
      "18/18 [==============================] - 0s 6ms/step - loss: 0.5338 - binary_accuracy: 0.7681 - val_loss: 0.5387 - val_binary_accuracy: 0.7742\n",
      "Epoch 60/100\n",
      "18/18 [==============================] - 0s 9ms/step - loss: 0.5331 - binary_accuracy: 0.7699 - val_loss: 0.5380 - val_binary_accuracy: 0.7742\n",
      "Epoch 61/100\n",
      "18/18 [==============================] - 0s 5ms/step - loss: 0.5326 - binary_accuracy: 0.7699 - val_loss: 0.5374 - val_binary_accuracy: 0.7742\n",
      "Epoch 62/100\n",
      "18/18 [==============================] - 0s 5ms/step - loss: 0.5321 - binary_accuracy: 0.7699 - val_loss: 0.5367 - val_binary_accuracy: 0.7742\n",
      "Epoch 63/100\n",
      "18/18 [==============================] - 0s 8ms/step - loss: 0.5315 - binary_accuracy: 0.7699 - val_loss: 0.5361 - val_binary_accuracy: 0.7742\n",
      "Epoch 64/100\n",
      "18/18 [==============================] - 0s 6ms/step - loss: 0.5310 - binary_accuracy: 0.7699 - val_loss: 0.5355 - val_binary_accuracy: 0.7742\n",
      "Epoch 65/100\n",
      "18/18 [==============================] - 0s 4ms/step - loss: 0.5304 - binary_accuracy: 0.7699 - val_loss: 0.5348 - val_binary_accuracy: 0.7742\n",
      "Epoch 66/100\n",
      "18/18 [==============================] - 0s 3ms/step - loss: 0.5299 - binary_accuracy: 0.7699 - val_loss: 0.5343 - val_binary_accuracy: 0.7742\n",
      "Epoch 67/100\n",
      "18/18 [==============================] - 0s 3ms/step - loss: 0.5294 - binary_accuracy: 0.7699 - val_loss: 0.5337 - val_binary_accuracy: 0.7742\n",
      "Epoch 68/100\n",
      "18/18 [==============================] - 0s 4ms/step - loss: 0.5289 - binary_accuracy: 0.7699 - val_loss: 0.5331 - val_binary_accuracy: 0.7742\n",
      "Epoch 69/100\n",
      "18/18 [==============================] - 0s 6ms/step - loss: 0.5284 - binary_accuracy: 0.7699 - val_loss: 0.5325 - val_binary_accuracy: 0.7742\n",
      "Epoch 70/100\n",
      "18/18 [==============================] - 0s 7ms/step - loss: 0.5279 - binary_accuracy: 0.7699 - val_loss: 0.5319 - val_binary_accuracy: 0.7742\n",
      "Epoch 71/100\n",
      "18/18 [==============================] - 0s 5ms/step - loss: 0.5273 - binary_accuracy: 0.7699 - val_loss: 0.5313 - val_binary_accuracy: 0.7742\n",
      "Epoch 72/100\n",
      "18/18 [==============================] - 0s 6ms/step - loss: 0.5268 - binary_accuracy: 0.7699 - val_loss: 0.5307 - val_binary_accuracy: 0.7742\n",
      "Epoch 73/100\n",
      "18/18 [==============================] - 0s 6ms/step - loss: 0.5263 - binary_accuracy: 0.7699 - val_loss: 0.5301 - val_binary_accuracy: 0.7742\n",
      "Epoch 74/100\n",
      "18/18 [==============================] - 0s 4ms/step - loss: 0.5258 - binary_accuracy: 0.7699 - val_loss: 0.5295 - val_binary_accuracy: 0.7742\n",
      "Epoch 75/100\n",
      "18/18 [==============================] - 0s 5ms/step - loss: 0.5253 - binary_accuracy: 0.7699 - val_loss: 0.5289 - val_binary_accuracy: 0.7742\n",
      "Epoch 76/100\n",
      "18/18 [==============================] - 0s 4ms/step - loss: 0.5248 - binary_accuracy: 0.7699 - val_loss: 0.5283 - val_binary_accuracy: 0.7742\n",
      "Epoch 77/100\n",
      "18/18 [==============================] - 0s 4ms/step - loss: 0.5242 - binary_accuracy: 0.7699 - val_loss: 0.5277 - val_binary_accuracy: 0.7742\n",
      "Epoch 78/100\n",
      "18/18 [==============================] - 0s 4ms/step - loss: 0.5238 - binary_accuracy: 0.7699 - val_loss: 0.5272 - val_binary_accuracy: 0.7742\n",
      "Epoch 79/100\n",
      "18/18 [==============================] - 0s 4ms/step - loss: 0.5232 - binary_accuracy: 0.7717 - val_loss: 0.5266 - val_binary_accuracy: 0.7742\n",
      "Epoch 80/100\n",
      "18/18 [==============================] - 0s 4ms/step - loss: 0.5227 - binary_accuracy: 0.7717 - val_loss: 0.5260 - val_binary_accuracy: 0.7903\n",
      "Epoch 81/100\n",
      "18/18 [==============================] - 0s 5ms/step - loss: 0.5222 - binary_accuracy: 0.7717 - val_loss: 0.5255 - val_binary_accuracy: 0.7903\n",
      "Epoch 82/100\n",
      "18/18 [==============================] - 0s 4ms/step - loss: 0.5217 - binary_accuracy: 0.7717 - val_loss: 0.5249 - val_binary_accuracy: 0.7903\n",
      "Epoch 83/100\n",
      "18/18 [==============================] - 0s 4ms/step - loss: 0.5212 - binary_accuracy: 0.7717 - val_loss: 0.5243 - val_binary_accuracy: 0.7903\n",
      "Epoch 84/100\n",
      "18/18 [==============================] - 0s 5ms/step - loss: 0.5207 - binary_accuracy: 0.7717 - val_loss: 0.5237 - val_binary_accuracy: 0.7903\n",
      "Epoch 85/100\n",
      "18/18 [==============================] - 0s 5ms/step - loss: 0.5203 - binary_accuracy: 0.7699 - val_loss: 0.5232 - val_binary_accuracy: 0.7903\n",
      "Epoch 86/100\n",
      "18/18 [==============================] - 0s 6ms/step - loss: 0.5198 - binary_accuracy: 0.7717 - val_loss: 0.5228 - val_binary_accuracy: 0.7903\n",
      "Epoch 87/100\n",
      "18/18 [==============================] - 0s 4ms/step - loss: 0.5194 - binary_accuracy: 0.7717 - val_loss: 0.5222 - val_binary_accuracy: 0.7903\n",
      "Epoch 88/100\n",
      "18/18 [==============================] - 0s 4ms/step - loss: 0.5189 - binary_accuracy: 0.7699 - val_loss: 0.5217 - val_binary_accuracy: 0.7903\n",
      "Epoch 89/100\n",
      "18/18 [==============================] - 0s 4ms/step - loss: 0.5184 - binary_accuracy: 0.7717 - val_loss: 0.5213 - val_binary_accuracy: 0.7903\n",
      "Epoch 90/100\n",
      "18/18 [==============================] - 0s 4ms/step - loss: 0.5180 - binary_accuracy: 0.7736 - val_loss: 0.5208 - val_binary_accuracy: 0.7903\n",
      "Epoch 91/100\n",
      "18/18 [==============================] - 0s 4ms/step - loss: 0.5175 - binary_accuracy: 0.7736 - val_loss: 0.5203 - val_binary_accuracy: 0.7903\n",
      "Epoch 92/100\n",
      "18/18 [==============================] - 0s 4ms/step - loss: 0.5171 - binary_accuracy: 0.7736 - val_loss: 0.5198 - val_binary_accuracy: 0.7903\n",
      "Epoch 93/100\n",
      "18/18 [==============================] - 0s 4ms/step - loss: 0.5166 - binary_accuracy: 0.7736 - val_loss: 0.5192 - val_binary_accuracy: 0.7903\n",
      "Epoch 94/100\n",
      "18/18 [==============================] - 0s 4ms/step - loss: 0.5162 - binary_accuracy: 0.7736 - val_loss: 0.5187 - val_binary_accuracy: 0.7903\n",
      "Epoch 95/100\n",
      "18/18 [==============================] - 0s 4ms/step - loss: 0.5158 - binary_accuracy: 0.7736 - val_loss: 0.5182 - val_binary_accuracy: 0.7903\n",
      "Epoch 96/100\n",
      "18/18 [==============================] - 0s 5ms/step - loss: 0.5153 - binary_accuracy: 0.7736 - val_loss: 0.5177 - val_binary_accuracy: 0.7903\n",
      "Epoch 97/100\n",
      "18/18 [==============================] - 0s 7ms/step - loss: 0.5149 - binary_accuracy: 0.7736 - val_loss: 0.5173 - val_binary_accuracy: 0.7903\n",
      "Epoch 98/100\n",
      "18/18 [==============================] - 0s 5ms/step - loss: 0.5145 - binary_accuracy: 0.7736 - val_loss: 0.5168 - val_binary_accuracy: 0.7903\n",
      "Epoch 99/100\n",
      "18/18 [==============================] - 0s 5ms/step - loss: 0.5141 - binary_accuracy: 0.7736 - val_loss: 0.5164 - val_binary_accuracy: 0.7903\n",
      "Epoch 100/100\n",
      "18/18 [==============================] - 0s 6ms/step - loss: 0.5137 - binary_accuracy: 0.7754 - val_loss: 0.5159 - val_binary_accuracy: 0.7903\n"
     ]
    },
    {
     "data": {
      "image/png": "[encoded data removed]",
      "text/plain": [
       "<Figure size 432x288 with 1 Axes>"
      ]
     },
     "metadata": {
      "needs_background": "light"
     },
     "output_type": "display_data"
    }
   ],
   "source": [
    "model=classification_model_config()\n",
    "comp(model,0.001,False)\n",
    "history=fit_model(model,100,x_train,y_train)\n",
    "plot_model(history)"
   ]
  },
  {
   "cell_type": "code",
   "execution_count": 119,
   "metadata": {},
   "outputs": [
    {
     "name": "stdout",
     "output_type": "stream",
     "text": [
      "Epoch 1/100\n",
      "18/18 [==============================] - 1s 10ms/step - loss: 0.1118 - val_loss: 0.0314\n",
      "Epoch 2/100\n",
      "18/18 [==============================] - 0s 4ms/step - loss: 0.0183 - val_loss: 0.0366\n",
      "Epoch 3/100\n",
      "18/18 [==============================] - 0s 4ms/step - loss: 0.0174 - val_loss: 0.0252\n",
      "Epoch 4/100\n",
      "18/18 [==============================] - 0s 4ms/step - loss: 0.0157 - val_loss: 0.0251\n",
      "Epoch 5/100\n",
      "18/18 [==============================] - 0s 4ms/step - loss: 0.0162 - val_loss: 0.0232\n",
      "Epoch 6/100\n",
      "18/18 [==============================] - 0s 4ms/step - loss: 0.0149 - val_loss: 0.0237\n",
      "Epoch 7/100\n",
      "18/18 [==============================] - 0s 6ms/step - loss: 0.0144 - val_loss: 0.0390\n",
      "Epoch 8/100\n",
      "18/18 [==============================] - 0s 9ms/step - loss: 0.0153 - val_loss: 0.0215\n",
      "Epoch 9/100\n",
      "18/18 [==============================] - 0s 5ms/step - loss: 0.0152 - val_loss: 0.0218\n",
      "Epoch 10/100\n",
      "18/18 [==============================] - 0s 4ms/step - loss: 0.0137 - val_loss: 0.0225\n",
      "Epoch 11/100\n",
      "18/18 [==============================] - 0s 4ms/step - loss: 0.0139 - val_loss: 0.0266\n",
      "Epoch 12/100\n",
      "18/18 [==============================] - 0s 4ms/step - loss: 0.0145 - val_loss: 0.0228\n",
      "Epoch 13/100\n",
      "18/18 [==============================] - 0s 4ms/step - loss: 0.0136 - val_loss: 0.0280\n",
      "Epoch 14/100\n",
      "18/18 [==============================] - 0s 3ms/step - loss: 0.0138 - val_loss: 0.0204\n",
      "Epoch 15/100\n",
      "18/18 [==============================] - 0s 4ms/step - loss: 0.0138 - val_loss: 0.0204\n",
      "Epoch 16/100\n",
      "18/18 [==============================] - 0s 3ms/step - loss: 0.0135 - val_loss: 0.0244\n",
      "Epoch 17/100\n",
      "18/18 [==============================] - 0s 3ms/step - loss: 0.0136 - val_loss: 0.0246\n",
      "Epoch 18/100\n",
      "18/18 [==============================] - 0s 5ms/step - loss: 0.0134 - val_loss: 0.0237\n",
      "Epoch 19/100\n",
      "18/18 [==============================] - 0s 4ms/step - loss: 0.0133 - val_loss: 0.0208\n",
      "Epoch 20/100\n",
      "18/18 [==============================] - 0s 4ms/step - loss: 0.0132 - val_loss: 0.0315\n",
      "Epoch 21/100\n",
      "18/18 [==============================] - 0s 10ms/step - loss: 0.0138 - val_loss: 0.0200\n",
      "Epoch 22/100\n",
      "18/18 [==============================] - 0s 7ms/step - loss: 0.0130 - val_loss: 0.0230\n",
      "Epoch 23/100\n",
      "18/18 [==============================] - 0s 4ms/step - loss: 0.0130 - val_loss: 0.0218\n",
      "Epoch 24/100\n",
      "18/18 [==============================] - 0s 4ms/step - loss: 0.0133 - val_loss: 0.0211\n",
      "Epoch 25/100\n",
      "18/18 [==============================] - 0s 8ms/step - loss: 0.0134 - val_loss: 0.0197\n",
      "Epoch 26/100\n",
      "18/18 [==============================] - 0s 8ms/step - loss: 0.0127 - val_loss: 0.0206\n",
      "Epoch 27/100\n",
      "18/18 [==============================] - 0s 4ms/step - loss: 0.0127 - val_loss: 0.0205\n",
      "Epoch 28/100\n",
      "18/18 [==============================] - 0s 4ms/step - loss: 0.0132 - val_loss: 0.0257\n",
      "Epoch 29/100\n",
      "18/18 [==============================] - 0s 3ms/step - loss: 0.0132 - val_loss: 0.0207\n",
      "Epoch 30/100\n",
      "18/18 [==============================] - 0s 4ms/step - loss: 0.0134 - val_loss: 0.0194\n",
      "Epoch 31/100\n",
      "18/18 [==============================] - 0s 4ms/step - loss: 0.0124 - val_loss: 0.0196\n",
      "Epoch 32/100\n",
      "18/18 [==============================] - 0s 9ms/step - loss: 0.0127 - val_loss: 0.0195\n",
      "Epoch 33/100\n",
      "18/18 [==============================] - 0s 8ms/step - loss: 0.0131 - val_loss: 0.0206\n",
      "Epoch 34/100\n",
      "18/18 [==============================] - 0s 4ms/step - loss: 0.0125 - val_loss: 0.0194\n",
      "Epoch 35/100\n",
      "18/18 [==============================] - 0s 4ms/step - loss: 0.0132 - val_loss: 0.0203\n",
      "Epoch 36/100\n",
      "18/18 [==============================] - 0s 4ms/step - loss: 0.0125 - val_loss: 0.0199\n",
      "Epoch 37/100\n",
      "18/18 [==============================] - 0s 3ms/step - loss: 0.0124 - val_loss: 0.0244\n",
      "Epoch 38/100\n",
      "18/18 [==============================] - 0s 4ms/step - loss: 0.0134 - val_loss: 0.0209\n",
      "Epoch 39/100\n",
      "18/18 [==============================] - 0s 9ms/step - loss: 0.0122 - val_loss: 0.0207\n",
      "Epoch 40/100\n",
      "18/18 [==============================] - 0s 8ms/step - loss: 0.0125 - val_loss: 0.0244\n",
      "Epoch 41/100\n",
      "18/18 [==============================] - 0s 6ms/step - loss: 0.0126 - val_loss: 0.0362\n",
      "Epoch 42/100\n",
      "18/18 [==============================] - 0s 4ms/step - loss: 0.0134 - val_loss: 0.0194\n",
      "Epoch 43/100\n",
      "18/18 [==============================] - 0s 8ms/step - loss: 0.0122 - val_loss: 0.0190\n",
      "Epoch 44/100\n",
      "18/18 [==============================] - 0s 7ms/step - loss: 0.0123 - val_loss: 0.0195\n",
      "Epoch 45/100\n",
      "18/18 [==============================] - 0s 7ms/step - loss: 0.0129 - val_loss: 0.0195\n",
      "Epoch 46/100\n",
      "18/18 [==============================] - 0s 4ms/step - loss: 0.0126 - val_loss: 0.0210\n",
      "Epoch 47/100\n",
      "18/18 [==============================] - 0s 4ms/step - loss: 0.0120 - val_loss: 0.0188\n",
      "Epoch 48/100\n",
      "18/18 [==============================] - 0s 4ms/step - loss: 0.0119 - val_loss: 0.0207\n",
      "Epoch 49/100\n",
      "18/18 [==============================] - 0s 3ms/step - loss: 0.0121 - val_loss: 0.0187\n",
      "Epoch 50/100\n",
      "18/18 [==============================] - 0s 3ms/step - loss: 0.0120 - val_loss: 0.0220\n",
      "Epoch 51/100\n",
      "18/18 [==============================] - 0s 4ms/step - loss: 0.0118 - val_loss: 0.0212\n",
      "Epoch 52/100\n",
      "18/18 [==============================] - 0s 3ms/step - loss: 0.0124 - val_loss: 0.0193\n",
      "Epoch 53/100\n",
      "18/18 [==============================] - 0s 4ms/step - loss: 0.0122 - val_loss: 0.0245\n",
      "Epoch 54/100\n",
      "18/18 [==============================] - 0s 4ms/step - loss: 0.0118 - val_loss: 0.0207\n",
      "Epoch 55/100\n",
      "18/18 [==============================] - 0s 5ms/step - loss: 0.0120 - val_loss: 0.0186\n",
      "Epoch 56/100\n",
      "18/18 [==============================] - 0s 6ms/step - loss: 0.0115 - val_loss: 0.0190\n",
      "Epoch 57/100\n",
      "18/18 [==============================] - 0s 6ms/step - loss: 0.0116 - val_loss: 0.0198\n",
      "Epoch 58/100\n",
      "18/18 [==============================] - 0s 3ms/step - loss: 0.0120 - val_loss: 0.0195\n",
      "Epoch 59/100\n",
      "18/18 [==============================] - 0s 4ms/step - loss: 0.0120 - val_loss: 0.0203\n",
      "Epoch 60/100\n",
      "18/18 [==============================] - 0s 5ms/step - loss: 0.0120 - val_loss: 0.0201\n",
      "Epoch 61/100\n",
      "18/18 [==============================] - 0s 4ms/step - loss: 0.0115 - val_loss: 0.0189\n",
      "Epoch 62/100\n",
      "18/18 [==============================] - 0s 4ms/step - loss: 0.0113 - val_loss: 0.0201\n",
      "Epoch 63/100\n",
      "18/18 [==============================] - 0s 4ms/step - loss: 0.0117 - val_loss: 0.0194\n",
      "Epoch 64/100\n",
      "18/18 [==============================] - 0s 5ms/step - loss: 0.0118 - val_loss: 0.0186\n",
      "Epoch 65/100\n",
      "18/18 [==============================] - 0s 4ms/step - loss: 0.0111 - val_loss: 0.0180\n",
      "Epoch 66/100\n",
      "18/18 [==============================] - 0s 3ms/step - loss: 0.0114 - val_loss: 0.0220\n",
      "Epoch 67/100\n",
      "18/18 [==============================] - 0s 4ms/step - loss: 0.0115 - val_loss: 0.0207\n",
      "Epoch 68/100\n",
      "18/18 [==============================] - 0s 4ms/step - loss: 0.0115 - val_loss: 0.0183\n",
      "Epoch 69/100\n",
      "18/18 [==============================] - 0s 4ms/step - loss: 0.0113 - val_loss: 0.0187\n",
      "Epoch 70/100\n",
      "18/18 [==============================] - 0s 4ms/step - loss: 0.0113 - val_loss: 0.0231\n",
      "Epoch 71/100\n",
      "18/18 [==============================] - 0s 4ms/step - loss: 0.0113 - val_loss: 0.0203\n",
      "Epoch 72/100\n",
      "18/18 [==============================] - 0s 6ms/step - loss: 0.0109 - val_loss: 0.0220\n",
      "Epoch 73/100\n",
      "18/18 [==============================] - 0s 4ms/step - loss: 0.0110 - val_loss: 0.0194\n",
      "Epoch 74/100\n",
      "18/18 [==============================] - 0s 4ms/step - loss: 0.0115 - val_loss: 0.0182\n",
      "Epoch 75/100\n",
      "18/18 [==============================] - 0s 6ms/step - loss: 0.0113 - val_loss: 0.0190\n",
      "Epoch 76/100\n",
      "18/18 [==============================] - 0s 3ms/step - loss: 0.0113 - val_loss: 0.0177\n",
      "Epoch 77/100\n",
      "18/18 [==============================] - 0s 4ms/step - loss: 0.0117 - val_loss: 0.0186\n",
      "Epoch 78/100\n",
      "18/18 [==============================] - 0s 4ms/step - loss: 0.0104 - val_loss: 0.0177\n",
      "Epoch 79/100\n",
      "18/18 [==============================] - 0s 5ms/step - loss: 0.0109 - val_loss: 0.0219\n",
      "Epoch 80/100\n",
      "18/18 [==============================] - 0s 7ms/step - loss: 0.0117 - val_loss: 0.0188\n",
      "Epoch 81/100\n",
      "18/18 [==============================] - 0s 6ms/step - loss: 0.0115 - val_loss: 0.0175\n",
      "Epoch 82/100\n",
      "18/18 [==============================] - 0s 5ms/step - loss: 0.0110 - val_loss: 0.0186\n"
     ]
    },
    {
     "name": "stdout",
     "output_type": "stream",
     "text": [
      "Epoch 83/100\n",
      "18/18 [==============================] - 0s 6ms/step - loss: 0.0106 - val_loss: 0.0187\n",
      "Epoch 84/100\n",
      "18/18 [==============================] - 0s 5ms/step - loss: 0.0107 - val_loss: 0.0201\n",
      "Epoch 85/100\n",
      "18/18 [==============================] - 0s 6ms/step - loss: 0.0104 - val_loss: 0.0213\n",
      "Epoch 86/100\n",
      "18/18 [==============================] - 0s 4ms/step - loss: 0.0103 - val_loss: 0.0181\n",
      "Epoch 87/100\n",
      "18/18 [==============================] - 0s 6ms/step - loss: 0.0103 - val_loss: 0.0195\n",
      "Epoch 88/100\n",
      "18/18 [==============================] - 0s 4ms/step - loss: 0.0106 - val_loss: 0.0174\n",
      "Epoch 89/100\n",
      "18/18 [==============================] - 0s 5ms/step - loss: 0.0101 - val_loss: 0.0200\n",
      "Epoch 90/100\n",
      "18/18 [==============================] - 0s 4ms/step - loss: 0.0105 - val_loss: 0.0177\n",
      "Epoch 91/100\n",
      "18/18 [==============================] - 0s 3ms/step - loss: 0.0100 - val_loss: 0.0194\n",
      "Epoch 92/100\n",
      "18/18 [==============================] - 0s 4ms/step - loss: 0.0104 - val_loss: 0.0184\n",
      "Epoch 93/100\n",
      "18/18 [==============================] - 0s 3ms/step - loss: 0.0100 - val_loss: 0.0219\n",
      "Epoch 94/100\n",
      "18/18 [==============================] - 0s 3ms/step - loss: 0.0098 - val_loss: 0.0210\n",
      "Epoch 95/100\n",
      "18/18 [==============================] - 0s 3ms/step - loss: 0.0097 - val_loss: 0.0177\n",
      "Epoch 96/100\n",
      "18/18 [==============================] - 0s 4ms/step - loss: 0.0102 - val_loss: 0.0295\n",
      "Epoch 97/100\n",
      "18/18 [==============================] - 0s 4ms/step - loss: 0.0116 - val_loss: 0.0190\n",
      "Epoch 98/100\n",
      "18/18 [==============================] - 0s 3ms/step - loss: 0.0099 - val_loss: 0.0223\n",
      "Epoch 99/100\n",
      "18/18 [==============================] - 0s 3ms/step - loss: 0.0095 - val_loss: 0.0169\n",
      "Epoch 100/100\n",
      "18/18 [==============================] - 0s 3ms/step - loss: 0.0114 - val_loss: 0.0175\n"
     ]
    },
    {
     "data": {
      "image/png": "[encoded data removed]",
      "text/plain": [
       "<Figure size 432x288 with 1 Axes>"
      ]
     },
     "metadata": {
      "needs_background": "light"
     },
     "output_type": "display_data"
    }
   ],
   "source": [
    "model=regression_model_config()\n",
    "comp(model,0.1,True)\n",
    "history=fit_model(model,100,x_train_reg,y_train_reg)\n",
    "plot_model(history)"
   ]
  },
  {
   "cell_type": "code",
   "execution_count": 120,
   "metadata": {},
   "outputs": [],
   "source": [
    "y_test_reg=loan_test['LoanAmount']\n",
    "x_test_reg=loan_test.drop(['LoanAmount'],axis=1)"
   ]
  },
  {
   "cell_type": "code",
   "execution_count": 121,
   "metadata": {},
   "outputs": [
    {
     "name": "stdout",
     "output_type": "stream",
     "text": [
      "12/12 [==============================] - 0s 2ms/step - loss: 0.0116\n"
     ]
    },
    {
     "data": {
      "text/plain": [
       "0.011589603498578072"
      ]
     },
     "execution_count": 121,
     "metadata": {},
     "output_type": "execute_result"
    }
   ],
   "source": [
    "model.evaluate(x_test_reg,y_test_reg)"
   ]
  }
 ],
 "metadata": {
  "colab": {
   "name": "Untitled0.ipynb",
   "provenance": []
  },
  "kernelspec": {
   "display_name": "Python 3",
   "language": "python",
   "name": "python3"
  },
  "language_info": {
   "codemirror_mode": {
    "name": "ipython",
    "version": 3
   },
   "file_extension": ".py",
   "mimetype": "text/x-python",
   "name": "python",
   "nbconvert_exporter": "python",
   "pygments_lexer": "ipython3",
   "version": "3.9.1"
  }
 },
 "nbformat": 4,
 "nbformat_minor": 1
}
