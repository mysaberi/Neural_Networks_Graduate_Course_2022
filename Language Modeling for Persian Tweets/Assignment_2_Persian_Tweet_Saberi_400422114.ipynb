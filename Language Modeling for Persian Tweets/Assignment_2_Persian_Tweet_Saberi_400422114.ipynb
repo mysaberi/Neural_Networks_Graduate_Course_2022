{
  "nbformat": 4,
  "nbformat_minor": 0,
  "metadata": {
    "colab": {
      "name": "Assignment 2 - Persian Tweet - Saberi 400422114.ipynb",
      "provenance": [],
      "collapsed_sections": []
    },
    "kernelspec": {
      "name": "python3",
      "display_name": "Python 3"
    },
    "language_info": {
      "name": "python"
    },
    "accelerator": "GPU",
    "gpuClass": "standard"
  },
  "cells": [
    {
      "cell_type": "markdown",
      "source": [
        "# Ckecking the GPU :"
      ],
      "metadata": {
        "id": "35rJ9MWRCWcI"
      }
    },
    {
      "cell_type": "code",
      "source": [
        "import tensorflow as tf\n",
        "from tensorflow.python.client import device_lib\n",
        "from sklearn.utils import shuffle\n",
        "print(\"Num GPUs Available: \", len(tf.config.list_physical_devices('GPU')))\n",
        "device_lib.list_local_devices()"
      ],
      "metadata": {
        "colab": {
          "base_uri": "https://localhost:8080/"
        },
        "id": "8v_LTVvbCIZO",
        "outputId": "9dc40c33-886c-460b-8529-c1a360fc0e95"
      },
      "execution_count": 2,
      "outputs": [
        {
          "output_type": "stream",
          "name": "stdout",
          "text": [
            "Num GPUs Available:  1\n"
          ]
        },
        {
          "output_type": "execute_result",
          "data": {
            "text/plain": [
              "[name: \"/device:CPU:0\"\n",
              " device_type: \"CPU\"\n",
              " memory_limit: 268435456\n",
              " locality {\n",
              " }\n",
              " incarnation: 13745145679567716844\n",
              " xla_global_id: -1, name: \"/device:GPU:0\"\n",
              " device_type: \"GPU\"\n",
              " memory_limit: 14444920832\n",
              " locality {\n",
              "   bus_id: 1\n",
              "   links {\n",
              "   }\n",
              " }\n",
              " incarnation: 860055211469220563\n",
              " physical_device_desc: \"device: 0, name: Tesla T4, pci bus id: 0000:00:04.0, compute capability: 7.5\"\n",
              " xla_global_id: 416903419]"
            ]
          },
          "metadata": {},
          "execution_count": 2
        }
      ]
    },
    {
      "cell_type": "markdown",
      "source": [
        "# Import libraries :"
      ],
      "metadata": {
        "id": "2sQIX3QfCfFS"
      }
    },
    {
      "cell_type": "code",
      "execution_count": 3,
      "metadata": {
        "id": "UfSB6K4zB61a"
      },
      "outputs": [],
      "source": [
        "import pandas as pd\n",
        "import os\n",
        "import numpy as np\n",
        "import matplotlib.pyplot as plt\n",
        "\n",
        "import tensorflow as tf\n",
        "from tensorflow.keras.preprocessing.text import Tokenizer\n",
        "from tensorflow.keras.preprocessing.sequence import pad_sequences\n",
        "from tensorflow.keras.layers import Embedding, LSTM, Dense, Bidirectional, GRU"
      ]
    },
    {
      "cell_type": "markdown",
      "source": [
        "# Import data :"
      ],
      "metadata": {
        "id": "N0_TTQwyCrH2"
      }
    },
    {
      "cell_type": "code",
      "source": [
        "from google.colab import drive\n",
        "drive.mount(\"/content/drive\")"
      ],
      "metadata": {
        "colab": {
          "base_uri": "https://localhost:8080/"
        },
        "id": "L5sSbXlSC3VX",
        "outputId": "9caf8431-48f5-4623-c11e-1ef30cb5c875"
      },
      "execution_count": 4,
      "outputs": [
        {
          "output_type": "stream",
          "name": "stdout",
          "text": [
            "Mounted at /content/drive\n"
          ]
        }
      ]
    },
    {
      "cell_type": "code",
      "source": [
        "data = pd.read_csv(\"/content/drive/MyDrive/x.csv\" , dtype=\"string\")\n",
        "data.columns=['col1','tweet']\n",
        "data.head()"
      ],
      "metadata": {
        "colab": {
          "base_uri": "https://localhost:8080/",
          "height": 268
        },
        "id": "q-OYJAbNCDKu",
        "outputId": "483b03d5-9400-4ae3-ef72-f37622c4216b"
      },
      "execution_count": 118,
      "outputs": [
        {
          "output_type": "execute_result",
          "data": {
            "text/plain": [
              "     col1  \\\n",
              "0  775206   \n",
              "1  913043   \n",
              "2  197016   \n",
              "3   41467   \n",
              "4  769431   \n",
              "\n",
              "                                                                                                                                                                                                                                                                            tweet  \n",
              "0                                                                                                                                                                                                                                                           چه جالب حالا گوه نخور  \n",
              "1                                                                                                                                                                     عطر یاسآواز نسیمرقص شاپرک هاانوار عاشقانه ی آفتابگویند سلامصبح زیبایتان بخیرامروز و هر روزتان بکام صبح بخير  \n",
              "2  نقدی مردم حق انتقاد دارن و به هیچ وجه تهدید نمیشن تو این مملکت سگها هم ازدست شما آسایش ندارن چه برسه به آدماضمنا اینم چندتا نمونه از افرادی که بخاطر انتقاد تهدید نشدن  اسماعیل بخشی سپیده قلیان امیرحسین میراسماعیلی هنگامه شهیدی گلرخ ایرایی آتنا دائمی دختران خیابان انقلاب  \n",
              "3                                                                                                                                                                                                                                                     کسی هست واسه سکس چت پول بده  \n",
              "4                                                                                                                                                                                     دوباره فضول رهبر موقت  که به حجاب مردم گیر میده  شماره ماشینش هم افتاده  دوربین ما اسلحه ما  "
            ],
            "text/html": [
              "\n",
              "  <div id=\"df-9d2268e6-7a2b-4e17-9492-1850f453b502\">\n",
              "    <div class=\"colab-df-container\">\n",
              "      <div>\n",
              "<style scoped>\n",
              "    .dataframe tbody tr th:only-of-type {\n",
              "        vertical-align: middle;\n",
              "    }\n",
              "\n",
              "    .dataframe tbody tr th {\n",
              "        vertical-align: top;\n",
              "    }\n",
              "\n",
              "    .dataframe thead th {\n",
              "        text-align: right;\n",
              "    }\n",
              "</style>\n",
              "<table border=\"1\" class=\"dataframe\">\n",
              "  <thead>\n",
              "    <tr style=\"text-align: right;\">\n",
              "      <th></th>\n",
              "      <th>col1</th>\n",
              "      <th>tweet</th>\n",
              "    </tr>\n",
              "  </thead>\n",
              "  <tbody>\n",
              "    <tr>\n",
              "      <th>0</th>\n",
              "      <td>775206</td>\n",
              "      <td>چه جالب حالا گوه نخور</td>\n",
              "    </tr>\n",
              "    <tr>\n",
              "      <th>1</th>\n",
              "      <td>913043</td>\n",
              "      <td>عطر یاسآواز نسیمرقص شاپرک هاانوار عاشقانه ی آفتابگویند سلامصبح زیبایتان بخیرامروز و هر روزتان بکام صبح بخير</td>\n",
              "    </tr>\n",
              "    <tr>\n",
              "      <th>2</th>\n",
              "      <td>197016</td>\n",
              "      <td>نقدی مردم حق انتقاد دارن و به هیچ وجه تهدید نمیشن تو این مملکت سگها هم ازدست شما آسایش ندارن چه برسه به آدماضمنا اینم چندتا نمونه از افرادی که بخاطر انتقاد تهدید نشدن  اسماعیل بخشی سپیده قلیان امیرحسین میراسماعیلی هنگامه شهیدی گلرخ ایرایی آتنا دائمی دختران خیابان انقلاب</td>\n",
              "    </tr>\n",
              "    <tr>\n",
              "      <th>3</th>\n",
              "      <td>41467</td>\n",
              "      <td>کسی هست واسه سکس چت پول بده</td>\n",
              "    </tr>\n",
              "    <tr>\n",
              "      <th>4</th>\n",
              "      <td>769431</td>\n",
              "      <td>دوباره فضول رهبر موقت  که به حجاب مردم گیر میده  شماره ماشینش هم افتاده  دوربین ما اسلحه ما</td>\n",
              "    </tr>\n",
              "  </tbody>\n",
              "</table>\n",
              "</div>\n",
              "      <button class=\"colab-df-convert\" onclick=\"convertToInteractive('df-9d2268e6-7a2b-4e17-9492-1850f453b502')\"\n",
              "              title=\"Convert this dataframe to an interactive table.\"\n",
              "              style=\"display:none;\">\n",
              "        \n",
              "  <svg xmlns=\"http://www.w3.org/2000/svg\" height=\"24px\"viewBox=\"0 0 24 24\"\n",
              "       width=\"24px\">\n",
              "    <path d=\"M0 0h24v24H0V0z\" fill=\"none\"/>\n",
              "    <path d=\"M18.56 5.44l.94 2.06.94-2.06 2.06-.94-2.06-.94-.94-2.06-.94 2.06-2.06.94zm-11 1L8.5 8.5l.94-2.06 2.06-.94-2.06-.94L8.5 2.5l-.94 2.06-2.06.94zm10 10l.94 2.06.94-2.06 2.06-.94-2.06-.94-.94-2.06-.94 2.06-2.06.94z\"/><path d=\"M17.41 7.96l-1.37-1.37c-.4-.4-.92-.59-1.43-.59-.52 0-1.04.2-1.43.59L10.3 9.45l-7.72 7.72c-.78.78-.78 2.05 0 2.83L4 21.41c.39.39.9.59 1.41.59.51 0 1.02-.2 1.41-.59l7.78-7.78 2.81-2.81c.8-.78.8-2.07 0-2.86zM5.41 20L4 18.59l7.72-7.72 1.47 1.35L5.41 20z\"/>\n",
              "  </svg>\n",
              "      </button>\n",
              "      \n",
              "  <style>\n",
              "    .colab-df-container {\n",
              "      display:flex;\n",
              "      flex-wrap:wrap;\n",
              "      gap: 12px;\n",
              "    }\n",
              "\n",
              "    .colab-df-convert {\n",
              "      background-color: #E8F0FE;\n",
              "      border: none;\n",
              "      border-radius: 50%;\n",
              "      cursor: pointer;\n",
              "      display: none;\n",
              "      fill: #1967D2;\n",
              "      height: 32px;\n",
              "      padding: 0 0 0 0;\n",
              "      width: 32px;\n",
              "    }\n",
              "\n",
              "    .colab-df-convert:hover {\n",
              "      background-color: #E2EBFA;\n",
              "      box-shadow: 0px 1px 2px rgba(60, 64, 67, 0.3), 0px 1px 3px 1px rgba(60, 64, 67, 0.15);\n",
              "      fill: #174EA6;\n",
              "    }\n",
              "\n",
              "    [theme=dark] .colab-df-convert {\n",
              "      background-color: #3B4455;\n",
              "      fill: #D2E3FC;\n",
              "    }\n",
              "\n",
              "    [theme=dark] .colab-df-convert:hover {\n",
              "      background-color: #434B5C;\n",
              "      box-shadow: 0px 1px 3px 1px rgba(0, 0, 0, 0.15);\n",
              "      filter: drop-shadow(0px 1px 2px rgba(0, 0, 0, 0.3));\n",
              "      fill: #FFFFFF;\n",
              "    }\n",
              "  </style>\n",
              "\n",
              "      <script>\n",
              "        const buttonEl =\n",
              "          document.querySelector('#df-9d2268e6-7a2b-4e17-9492-1850f453b502 button.colab-df-convert');\n",
              "        buttonEl.style.display =\n",
              "          google.colab.kernel.accessAllowed ? 'block' : 'none';\n",
              "\n",
              "        async function convertToInteractive(key) {\n",
              "          const element = document.querySelector('#df-9d2268e6-7a2b-4e17-9492-1850f453b502');\n",
              "          const dataTable =\n",
              "            await google.colab.kernel.invokeFunction('convertToInteractive',\n",
              "                                                     [key], {});\n",
              "          if (!dataTable) return;\n",
              "\n",
              "          const docLinkHtml = 'Like what you see? Visit the ' +\n",
              "            '<a target=\"_blank\" href=https://colab.research.google.com/notebooks/data_table.ipynb>data table notebook</a>'\n",
              "            + ' to learn more about interactive tables.';\n",
              "          element.innerHTML = '';\n",
              "          dataTable['output_type'] = 'display_data';\n",
              "          await google.colab.output.renderOutput(dataTable, element);\n",
              "          const docLink = document.createElement('div');\n",
              "          docLink.innerHTML = docLinkHtml;\n",
              "          element.appendChild(docLink);\n",
              "        }\n",
              "      </script>\n",
              "    </div>\n",
              "  </div>\n",
              "  "
            ]
          },
          "metadata": {},
          "execution_count": 118
        }
      ]
    },
    {
      "cell_type": "code",
      "source": [
        "data.shape"
      ],
      "metadata": {
        "colab": {
          "base_uri": "https://localhost:8080/"
        },
        "id": "GMtYXLU9Dwjl",
        "outputId": "ab0b54a2-06c5-4415-d57d-2f43c43e484b"
      },
      "execution_count": 119,
      "outputs": [
        {
          "output_type": "execute_result",
          "data": {
            "text/plain": [
              "(249981, 2)"
            ]
          },
          "metadata": {},
          "execution_count": 119
        }
      ]
    },
    {
      "cell_type": "code",
      "source": [
        "data.col1.nunique()"
      ],
      "metadata": {
        "colab": {
          "base_uri": "https://localhost:8080/"
        },
        "id": "NUK8LyAiDKfG",
        "outputId": "6b7fd098-a5f3-4908-82f9-81ddf17a7a24"
      },
      "execution_count": 120,
      "outputs": [
        {
          "output_type": "execute_result",
          "data": {
            "text/plain": [
              "249981"
            ]
          },
          "metadata": {},
          "execution_count": 120
        }
      ]
    },
    {
      "cell_type": "code",
      "source": [
        "data=data.drop(['col1'],axis=1)"
      ],
      "metadata": {
        "id": "J5p7Vbv4DuC3"
      },
      "execution_count": 121,
      "outputs": []
    },
    {
      "cell_type": "code",
      "source": [
        "pd.options.display.max_colwidth=1000"
      ],
      "metadata": {
        "id": "xUOx4OA6LA9i"
      },
      "execution_count": 122,
      "outputs": []
    },
    {
      "cell_type": "code",
      "source": [
        "data.head()"
      ],
      "metadata": {
        "colab": {
          "base_uri": "https://localhost:8080/",
          "height": 268
        },
        "id": "HhIJh7_nLjCh",
        "outputId": "f97d4ca6-60bf-4081-cf93-144e36711596"
      },
      "execution_count": 123,
      "outputs": [
        {
          "output_type": "execute_result",
          "data": {
            "text/plain": [
              "                                                                                                                                                                                                                                                                            tweet\n",
              "0                                                                                                                                                                                                                                                           چه جالب حالا گوه نخور\n",
              "1                                                                                                                                                                     عطر یاسآواز نسیمرقص شاپرک هاانوار عاشقانه ی آفتابگویند سلامصبح زیبایتان بخیرامروز و هر روزتان بکام صبح بخير\n",
              "2  نقدی مردم حق انتقاد دارن و به هیچ وجه تهدید نمیشن تو این مملکت سگها هم ازدست شما آسایش ندارن چه برسه به آدماضمنا اینم چندتا نمونه از افرادی که بخاطر انتقاد تهدید نشدن  اسماعیل بخشی سپیده قلیان امیرحسین میراسماعیلی هنگامه شهیدی گلرخ ایرایی آتنا دائمی دختران خیابان انقلاب\n",
              "3                                                                                                                                                                                                                                                     کسی هست واسه سکس چت پول بده\n",
              "4                                                                                                                                                                                     دوباره فضول رهبر موقت  که به حجاب مردم گیر میده  شماره ماشینش هم افتاده  دوربین ما اسلحه ما"
            ],
            "text/html": [
              "\n",
              "  <div id=\"df-47cb56a1-7d4c-4c6b-a1dd-52cd75ab8daa\">\n",
              "    <div class=\"colab-df-container\">\n",
              "      <div>\n",
              "<style scoped>\n",
              "    .dataframe tbody tr th:only-of-type {\n",
              "        vertical-align: middle;\n",
              "    }\n",
              "\n",
              "    .dataframe tbody tr th {\n",
              "        vertical-align: top;\n",
              "    }\n",
              "\n",
              "    .dataframe thead th {\n",
              "        text-align: right;\n",
              "    }\n",
              "</style>\n",
              "<table border=\"1\" class=\"dataframe\">\n",
              "  <thead>\n",
              "    <tr style=\"text-align: right;\">\n",
              "      <th></th>\n",
              "      <th>tweet</th>\n",
              "    </tr>\n",
              "  </thead>\n",
              "  <tbody>\n",
              "    <tr>\n",
              "      <th>0</th>\n",
              "      <td>چه جالب حالا گوه نخور</td>\n",
              "    </tr>\n",
              "    <tr>\n",
              "      <th>1</th>\n",
              "      <td>عطر یاسآواز نسیمرقص شاپرک هاانوار عاشقانه ی آفتابگویند سلامصبح زیبایتان بخیرامروز و هر روزتان بکام صبح بخير</td>\n",
              "    </tr>\n",
              "    <tr>\n",
              "      <th>2</th>\n",
              "      <td>نقدی مردم حق انتقاد دارن و به هیچ وجه تهدید نمیشن تو این مملکت سگها هم ازدست شما آسایش ندارن چه برسه به آدماضمنا اینم چندتا نمونه از افرادی که بخاطر انتقاد تهدید نشدن  اسماعیل بخشی سپیده قلیان امیرحسین میراسماعیلی هنگامه شهیدی گلرخ ایرایی آتنا دائمی دختران خیابان انقلاب</td>\n",
              "    </tr>\n",
              "    <tr>\n",
              "      <th>3</th>\n",
              "      <td>کسی هست واسه سکس چت پول بده</td>\n",
              "    </tr>\n",
              "    <tr>\n",
              "      <th>4</th>\n",
              "      <td>دوباره فضول رهبر موقت  که به حجاب مردم گیر میده  شماره ماشینش هم افتاده  دوربین ما اسلحه ما</td>\n",
              "    </tr>\n",
              "  </tbody>\n",
              "</table>\n",
              "</div>\n",
              "      <button class=\"colab-df-convert\" onclick=\"convertToInteractive('df-47cb56a1-7d4c-4c6b-a1dd-52cd75ab8daa')\"\n",
              "              title=\"Convert this dataframe to an interactive table.\"\n",
              "              style=\"display:none;\">\n",
              "        \n",
              "  <svg xmlns=\"http://www.w3.org/2000/svg\" height=\"24px\"viewBox=\"0 0 24 24\"\n",
              "       width=\"24px\">\n",
              "    <path d=\"M0 0h24v24H0V0z\" fill=\"none\"/>\n",
              "    <path d=\"M18.56 5.44l.94 2.06.94-2.06 2.06-.94-2.06-.94-.94-2.06-.94 2.06-2.06.94zm-11 1L8.5 8.5l.94-2.06 2.06-.94-2.06-.94L8.5 2.5l-.94 2.06-2.06.94zm10 10l.94 2.06.94-2.06 2.06-.94-2.06-.94-.94-2.06-.94 2.06-2.06.94z\"/><path d=\"M17.41 7.96l-1.37-1.37c-.4-.4-.92-.59-1.43-.59-.52 0-1.04.2-1.43.59L10.3 9.45l-7.72 7.72c-.78.78-.78 2.05 0 2.83L4 21.41c.39.39.9.59 1.41.59.51 0 1.02-.2 1.41-.59l7.78-7.78 2.81-2.81c.8-.78.8-2.07 0-2.86zM5.41 20L4 18.59l7.72-7.72 1.47 1.35L5.41 20z\"/>\n",
              "  </svg>\n",
              "      </button>\n",
              "      \n",
              "  <style>\n",
              "    .colab-df-container {\n",
              "      display:flex;\n",
              "      flex-wrap:wrap;\n",
              "      gap: 12px;\n",
              "    }\n",
              "\n",
              "    .colab-df-convert {\n",
              "      background-color: #E8F0FE;\n",
              "      border: none;\n",
              "      border-radius: 50%;\n",
              "      cursor: pointer;\n",
              "      display: none;\n",
              "      fill: #1967D2;\n",
              "      height: 32px;\n",
              "      padding: 0 0 0 0;\n",
              "      width: 32px;\n",
              "    }\n",
              "\n",
              "    .colab-df-convert:hover {\n",
              "      background-color: #E2EBFA;\n",
              "      box-shadow: 0px 1px 2px rgba(60, 64, 67, 0.3), 0px 1px 3px 1px rgba(60, 64, 67, 0.15);\n",
              "      fill: #174EA6;\n",
              "    }\n",
              "\n",
              "    [theme=dark] .colab-df-convert {\n",
              "      background-color: #3B4455;\n",
              "      fill: #D2E3FC;\n",
              "    }\n",
              "\n",
              "    [theme=dark] .colab-df-convert:hover {\n",
              "      background-color: #434B5C;\n",
              "      box-shadow: 0px 1px 3px 1px rgba(0, 0, 0, 0.15);\n",
              "      filter: drop-shadow(0px 1px 2px rgba(0, 0, 0, 0.3));\n",
              "      fill: #FFFFFF;\n",
              "    }\n",
              "  </style>\n",
              "\n",
              "      <script>\n",
              "        const buttonEl =\n",
              "          document.querySelector('#df-47cb56a1-7d4c-4c6b-a1dd-52cd75ab8daa button.colab-df-convert');\n",
              "        buttonEl.style.display =\n",
              "          google.colab.kernel.accessAllowed ? 'block' : 'none';\n",
              "\n",
              "        async function convertToInteractive(key) {\n",
              "          const element = document.querySelector('#df-47cb56a1-7d4c-4c6b-a1dd-52cd75ab8daa');\n",
              "          const dataTable =\n",
              "            await google.colab.kernel.invokeFunction('convertToInteractive',\n",
              "                                                     [key], {});\n",
              "          if (!dataTable) return;\n",
              "\n",
              "          const docLinkHtml = 'Like what you see? Visit the ' +\n",
              "            '<a target=\"_blank\" href=https://colab.research.google.com/notebooks/data_table.ipynb>data table notebook</a>'\n",
              "            + ' to learn more about interactive tables.';\n",
              "          element.innerHTML = '';\n",
              "          dataTable['output_type'] = 'display_data';\n",
              "          await google.colab.output.renderOutput(dataTable, element);\n",
              "          const docLink = document.createElement('div');\n",
              "          docLink.innerHTML = docLinkHtml;\n",
              "          element.appendChild(docLink);\n",
              "        }\n",
              "      </script>\n",
              "    </div>\n",
              "  </div>\n",
              "  "
            ]
          },
          "metadata": {},
          "execution_count": 123
        }
      ]
    },
    {
      "cell_type": "markdown",
      "source": [
        "# Cleaning the data"
      ],
      "metadata": {
        "id": "UtODCcdd4x1E"
      }
    },
    {
      "cell_type": "code",
      "source": [
        "import re\n",
        "def tokenizer_txt(text):\n",
        "    text = re.sub(b'\\u200c'.decode(\"utf-8\", \"strict\"), \" \", text)   \n",
        "    text = re.sub('\\n', ' ', text)\n",
        "    text = re.sub('[ ]+', ' ', text)\n",
        "    text = re.sub('\\.', ' .', text)\n",
        "    text = re.sub('\\،', ' ،', text)\n",
        "    text = re.sub('\\؛ ', ' ؛', text)\n",
        "    text = re.sub('\\؟ ', ' ؟', text)\n",
        "    text = re.sub('\\\"',' ',text)\n",
        "    text = re.sub('\\'','',text)\n",
        "    text = re.sub('\\. \\. \\.', '...', text)\n",
        "\n",
        "    unique_words = dict.fromkeys(text.split())\n",
        "    return ' '.join(unique_words)\n",
        "  "
      ],
      "metadata": {
        "id": "7lEFecvkNfjC"
      },
      "execution_count": 11,
      "outputs": []
    },
    {
      "cell_type": "code",
      "source": [
        "data.isna().sum()"
      ],
      "metadata": {
        "colab": {
          "base_uri": "https://localhost:8080/"
        },
        "id": "lu9Tyc3AMoEc",
        "outputId": "bdd072db-3d7b-4541-ea48-0e34069483f6"
      },
      "execution_count": 125,
      "outputs": [
        {
          "output_type": "execute_result",
          "data": {
            "text/plain": [
              "tweet    201\n",
              "dtype: int64"
            ]
          },
          "metadata": {},
          "execution_count": 125
        }
      ]
    },
    {
      "cell_type": "code",
      "source": [
        "data.dropna(inplace=True)\n",
        "data['tweet'] = data['tweet'].apply(tokenizer_txt)"
      ],
      "metadata": {
        "id": "UwSPmB0vNEpo"
      },
      "execution_count": 12,
      "outputs": []
    },
    {
      "cell_type": "code",
      "source": [
        "texts = data['tweet']"
      ],
      "metadata": {
        "id": "9Z7npVF9OVTR"
      },
      "execution_count": 13,
      "outputs": []
    },
    {
      "cell_type": "code",
      "source": [
        "tweet_lenghs = [len(tweet.split()) for tweet in texts]"
      ],
      "metadata": {
        "id": "9A7lkyn1CKVH"
      },
      "execution_count": 14,
      "outputs": []
    },
    {
      "cell_type": "code",
      "source": [
        "plt.hist(tweet_lenghs, bins=80)\n",
        "plt.show()"
      ],
      "metadata": {
        "colab": {
          "base_uri": "https://localhost:8080/",
          "height": 265
        },
        "id": "3dJH2GO_Cbx3",
        "outputId": "e8d8fc5b-97a9-4e77-e7d5-777dff347851"
      },
      "execution_count": 15,
      "outputs": [
        {
          "output_type": "display_data",
          "data": {
            "text/plain": [
              "<Figure size 432x288 with 1 Axes>"
            ],
            "image/png": "[encoded data removed]"
          },
          "metadata": {
            "needs_background": "light"
          }
        }
      ]
    },
    {
      "cell_type": "markdown",
      "source": [
        "## Tokenize "
      ],
      "metadata": {
        "id": "D0wI7t3-ASRz"
      }
    },
    {
      "cell_type": "code",
      "source": [
        "#We decided to work with the first 1000 longest tweets to accelerate the learning speed\n",
        "\n",
        "keys = texts.str.len().sort_values(ascending = False).keys()[:1000]\n",
        "tweets = data[data.index.isin(keys)].reset_index(drop = True)['tweet']\n",
        "tokenizer = Tokenizer(oov_token='<oov>') # For those words which are not found in word_index\n",
        "tokenizer.fit_on_texts(tweets)\n",
        "total_words = len(tokenizer.word_index) + 1\n",
        "\n",
        "print(\"Total number of words: \", total_words)"
      ],
      "metadata": {
        "colab": {
          "base_uri": "https://localhost:8080/"
        },
        "id": "9s25qoeVP0_o",
        "outputId": "1ac58e8a-a49a-4095-ecab-a79ff528a347"
      },
      "execution_count": 111,
      "outputs": [
        {
          "output_type": "stream",
          "name": "stdout",
          "text": [
            "Total number of words:  15477\n"
          ]
        }
      ]
    },
    {
      "cell_type": "code",
      "source": [
        "print(\"Total number of words: \", total_words)\n",
        "print(\"Word: ID\")\n",
        "print(\"------------\")\n",
        "print(\"<oov>: \", tokenizer.word_index['<oov>'])\n",
        "print(\"مبارک: \", tokenizer.word_index['مبارک'])\n",
        "print(\"فرانسه: \", tokenizer.word_index['فرانسه'])"
      ],
      "metadata": {
        "colab": {
          "base_uri": "https://localhost:8080/"
        },
        "id": "HBdYzLBX_0CF",
        "outputId": "998715fb-4be8-43b3-823b-da912d5060c7"
      },
      "execution_count": 112,
      "outputs": [
        {
          "output_type": "stream",
          "name": "stdout",
          "text": [
            "Total number of words:  15477\n",
            "Word: ID\n",
            "------------\n",
            "<oov>:  1\n",
            "مبارک:  2657\n",
            "فرانسه:  1866\n"
          ]
        }
      ]
    },
    {
      "cell_type": "markdown",
      "source": [
        "## turn into n-grams"
      ],
      "metadata": {
        "id": "w4MZ8MIgApqX"
      }
    },
    {
      "cell_type": "code",
      "source": [
        "input_sequences = []\n",
        "for line in tweets:\n",
        "    token_list = tokenizer.texts_to_sequences([line])[0]\n",
        "    \n",
        "    for i in range(1, len(token_list)):\n",
        "        n_gram_sequence = token_list[:i+1]\n",
        "        input_sequences.append(n_gram_sequence)\n",
        "\n",
        "print(\"Total input sequences: \", len(input_sequences))"
      ],
      "metadata": {
        "colab": {
          "base_uri": "https://localhost:8080/"
        },
        "id": "LdiPtx7XAagO",
        "outputId": "f404d818-53b2-4f1c-f40d-51661ce1a634"
      },
      "execution_count": 113,
      "outputs": [
        {
          "output_type": "stream",
          "name": "stdout",
          "text": [
            "Total input sequences:  46330\n"
          ]
        }
      ]
    },
    {
      "cell_type": "markdown",
      "source": [
        "## padding"
      ],
      "metadata": {
        "id": "Q-wYcZBvAwDq"
      }
    },
    {
      "cell_type": "code",
      "source": [
        "# pad sequences \n",
        "max_sequence_len = max([len(x) for x in input_sequences])\n",
        "input_sequences = np.array(pad_sequences(input_sequences, maxlen=max_sequence_len, padding='pre'))\n",
        "input_sequences[1]"
      ],
      "metadata": {
        "colab": {
          "base_uri": "https://localhost:8080/"
        },
        "id": "XcTy0NpYB02W",
        "outputId": "68b6d9de-39f0-4d48-91af-2f4bb37cf156"
      },
      "execution_count": 114,
      "outputs": [
        {
          "output_type": "execute_result",
          "data": {
            "text/plain": [
              "array([   0,    0,    0,    0,    0,    0,    0,    0,    0,    0,    0,\n",
              "          0,    0,    0,    0,    0,    0,    0,    0,    0,    0,    0,\n",
              "          0,    0,    0,    0,    0,    0,    0,    0,    0,    0,    0,\n",
              "          0,    0,    0,    0,    0,    0,    0,    0,    0,    0,    0,\n",
              "          0,    0,    0,    0,    0,    0,    0,    0,    0,    0,    0,\n",
              "       1320,   26,  159], dtype=int32)"
            ]
          },
          "metadata": {},
          "execution_count": 114
        }
      ]
    },
    {
      "cell_type": "code",
      "source": [
        "max_sequence_len"
      ],
      "metadata": {
        "colab": {
          "base_uri": "https://localhost:8080/"
        },
        "id": "PPn9OywuENwE",
        "outputId": "c14faa94-3278-42d0-81cb-e64882bdc904"
      },
      "execution_count": 115,
      "outputs": [
        {
          "output_type": "execute_result",
          "data": {
            "text/plain": [
              "58"
            ]
          },
          "metadata": {},
          "execution_count": 115
        }
      ]
    },
    {
      "cell_type": "markdown",
      "source": [
        "## prepare network input and labels"
      ],
      "metadata": {
        "id": "NPIjzEYOAv-G"
      }
    },
    {
      "cell_type": "code",
      "source": [
        "# create features and label\n",
        "xs, labels = input_sequences[:,:-1],input_sequences[:,-1]"
      ],
      "metadata": {
        "id": "cjaseIt7B_3Z"
      },
      "execution_count": 116,
      "outputs": []
    },
    {
      "cell_type": "code",
      "source": [
        "print(xs[1])\n",
        "print(labels[1])"
      ],
      "metadata": {
        "colab": {
          "base_uri": "https://localhost:8080/"
        },
        "id": "7OVmkkVOCA3y",
        "outputId": "1ed61252-e034-4ec4-d487-4ab99ff38692"
      },
      "execution_count": 22,
      "outputs": [
        {
          "output_type": "stream",
          "name": "stdout",
          "text": [
            "[   0    0    0    0    0    0    0    0    0    0    0    0    0    0\n",
            "    0    0    0    0    0    0    0    0    0    0    0    0    0    0\n",
            "    0    0    0    0    0    0    0    0    0    0    0    0    0    0\n",
            "    0    0    0    0    0    0    0    0    0    0    0    0    0 1320\n",
            "   26]\n",
            "159\n"
          ]
        }
      ]
    },
    {
      "cell_type": "markdown",
      "source": [
        "## Model Configuration"
      ],
      "metadata": {
        "id": "c-vXllAVAv7E"
      }
    },
    {
      "cell_type": "code",
      "source": [
        "def plot_model(history):\n",
        "    df=pd.DataFrame(history.history)\n",
        "    fig, axs = plt.subplots(1, 2,figsize=(15,5))\n",
        "\n",
        "    axs[0].plot(df['loss'])\n",
        "    axs[0].set_xlabel('Epochs')\n",
        "    axs[0].set_ylabel('Loss')\n",
        "\n",
        "    axs[0].set_title('Loss')\n",
        "\n",
        "    axs[1].plot(df['accuracy'])\n",
        "    axs[1].set_xlabel('Epochs')\n",
        "    axs[1].set_ylabel('accuracy')\n",
        "\n",
        "    axs[1].set_title('Accuracy')\n",
        "    plt.show()"
      ],
      "metadata": {
        "id": "dMagw-8OWj61"
      },
      "execution_count": 23,
      "outputs": []
    },
    {
      "cell_type": "code",
      "source": [
        "model = tf.keras.Sequential()\n",
        "\n",
        "model.add(Embedding(total_words, 32, input_length=max_sequence_len-1))\n",
        "model.add(Bidirectional(LSTM(32)))\n",
        "model.add(Dense(total_words, activation='softmax'))\n",
        "\n",
        "adam = tf.keras.optimizers.Adam(learning_rate=0.01)\n",
        "model.compile(loss='sparse_categorical_crossentropy', optimizer=adam, metrics=['accuracy'])"
      ],
      "metadata": {
        "id": "V4PMPm2lFBdv"
      },
      "execution_count": 24,
      "outputs": []
    },
    {
      "cell_type": "code",
      "source": [
        "model.summary()"
      ],
      "metadata": {
        "colab": {
          "base_uri": "https://localhost:8080/"
        },
        "id": "RrlLKRALFQzQ",
        "outputId": "77697a02-5355-43ec-9761-abe8169d9820"
      },
      "execution_count": 25,
      "outputs": [
        {
          "output_type": "stream",
          "name": "stdout",
          "text": [
            "Model: \"sequential\"\n",
            "_________________________________________________________________\n",
            " Layer (type)                Output Shape              Param #   \n",
            "=================================================================\n",
            " embedding (Embedding)       (None, 57, 32)            495264    \n",
            "                                                                 \n",
            " bidirectional (Bidirectiona  (None, 64)               16640     \n",
            " l)                                                              \n",
            "                                                                 \n",
            " dense (Dense)               (None, 15477)             1006005   \n",
            "                                                                 \n",
            "=================================================================\n",
            "Total params: 1,517,909\n",
            "Trainable params: 1,517,909\n",
            "Non-trainable params: 0\n",
            "_________________________________________________________________\n"
          ]
        }
      ]
    },
    {
      "cell_type": "code",
      "source": [
        "history = model.fit(xs, labels, epochs=40, verbose=1)"
      ],
      "metadata": {
        "colab": {
          "base_uri": "https://localhost:8080/"
        },
        "id": "I7ZANc7nFQwr",
        "outputId": "2f9fa000-f07a-462b-9696-36fc3cae1450"
      },
      "execution_count": 26,
      "outputs": [
        {
          "output_type": "stream",
          "name": "stdout",
          "text": [
            "Epoch 1/40\n",
            "1448/1448 [==============================] - 26s 12ms/step - loss: 9.0021 - accuracy: 0.0150\n",
            "Epoch 2/40\n",
            "1448/1448 [==============================] - 18s 13ms/step - loss: 8.3581 - accuracy: 0.0216\n",
            "Epoch 3/40\n",
            "1448/1448 [==============================] - 13s 9ms/step - loss: 7.4130 - accuracy: 0.0387\n",
            "Epoch 4/40\n",
            "1448/1448 [==============================] - 20s 14ms/step - loss: 6.2869 - accuracy: 0.0675\n",
            "Epoch 5/40\n",
            "1448/1448 [==============================] - 14s 10ms/step - loss: 5.3044 - accuracy: 0.1234\n",
            "Epoch 6/40\n",
            "1448/1448 [==============================] - 15s 10ms/step - loss: 4.5314 - accuracy: 0.2064\n",
            "Epoch 7/40\n",
            "1448/1448 [==============================] - 13s 9ms/step - loss: 3.9576 - accuracy: 0.2834\n",
            "Epoch 8/40\n",
            "1448/1448 [==============================] - 14s 9ms/step - loss: 3.5554 - accuracy: 0.3424\n",
            "Epoch 9/40\n",
            "1448/1448 [==============================] - 15s 10ms/step - loss: 3.2391 - accuracy: 0.3915\n",
            "Epoch 10/40\n",
            "1448/1448 [==============================] - 17s 12ms/step - loss: 3.0103 - accuracy: 0.4267\n",
            "Epoch 11/40\n",
            "1448/1448 [==============================] - 18s 13ms/step - loss: 2.8334 - accuracy: 0.4569\n",
            "Epoch 12/40\n",
            "1448/1448 [==============================] - 14s 10ms/step - loss: 2.6849 - accuracy: 0.4799\n",
            "Epoch 13/40\n",
            "1448/1448 [==============================] - 18s 12ms/step - loss: 2.5531 - accuracy: 0.5013\n",
            "Epoch 14/40\n",
            "1448/1448 [==============================] - 17s 12ms/step - loss: 2.4662 - accuracy: 0.5126\n",
            "Epoch 15/40\n",
            "1448/1448 [==============================] - 16s 11ms/step - loss: 2.3657 - accuracy: 0.5310\n",
            "Epoch 16/40\n",
            "1448/1448 [==============================] - 18s 12ms/step - loss: 2.2845 - accuracy: 0.5431\n",
            "Epoch 17/40\n",
            "1448/1448 [==============================] - 15s 10ms/step - loss: 2.2256 - accuracy: 0.5525\n",
            "Epoch 18/40\n",
            "1448/1448 [==============================] - 18s 13ms/step - loss: 2.1701 - accuracy: 0.5608\n",
            "Epoch 19/40\n",
            "1448/1448 [==============================] - 13s 9ms/step - loss: 2.1329 - accuracy: 0.5652\n",
            "Epoch 20/40\n",
            "1448/1448 [==============================] - 13s 9ms/step - loss: 2.0692 - accuracy: 0.5759\n",
            "Epoch 21/40\n",
            "1448/1448 [==============================] - 13s 9ms/step - loss: 2.0329 - accuracy: 0.5832\n",
            "Epoch 22/40\n",
            "1448/1448 [==============================] - 14s 10ms/step - loss: 2.0120 - accuracy: 0.5817\n",
            "Epoch 23/40\n",
            "1448/1448 [==============================] - 13s 9ms/step - loss: 1.9779 - accuracy: 0.5894\n",
            "Epoch 24/40\n",
            "1448/1448 [==============================] - 13s 9ms/step - loss: 1.9551 - accuracy: 0.5935\n",
            "Epoch 25/40\n",
            "1448/1448 [==============================] - 13s 9ms/step - loss: 1.9108 - accuracy: 0.6020\n",
            "Epoch 26/40\n",
            "1448/1448 [==============================] - 13s 9ms/step - loss: 1.8986 - accuracy: 0.6010\n",
            "Epoch 27/40\n",
            "1448/1448 [==============================] - 14s 9ms/step - loss: 1.8655 - accuracy: 0.6088\n",
            "Epoch 28/40\n",
            "1448/1448 [==============================] - 13s 9ms/step - loss: 1.8714 - accuracy: 0.6039\n",
            "Epoch 29/40\n",
            "1448/1448 [==============================] - 13s 9ms/step - loss: 1.8442 - accuracy: 0.6092\n",
            "Epoch 30/40\n",
            "1448/1448 [==============================] - 13s 9ms/step - loss: 1.8230 - accuracy: 0.6146\n",
            "Epoch 31/40\n",
            "1448/1448 [==============================] - 13s 9ms/step - loss: 1.7908 - accuracy: 0.6194\n",
            "Epoch 32/40\n",
            "1448/1448 [==============================] - 13s 9ms/step - loss: 1.7848 - accuracy: 0.6221\n",
            "Epoch 33/40\n",
            "1448/1448 [==============================] - 14s 10ms/step - loss: 1.7868 - accuracy: 0.6201\n",
            "Epoch 34/40\n",
            "1448/1448 [==============================] - 13s 9ms/step - loss: 1.7992 - accuracy: 0.6179\n",
            "Epoch 35/40\n",
            "1448/1448 [==============================] - 13s 9ms/step - loss: 1.7570 - accuracy: 0.6252\n",
            "Epoch 36/40\n",
            "1448/1448 [==============================] - 13s 9ms/step - loss: 1.7747 - accuracy: 0.6206\n",
            "Epoch 37/40\n",
            "1448/1448 [==============================] - 13s 9ms/step - loss: 1.7698 - accuracy: 0.6216\n",
            "Epoch 38/40\n",
            "1448/1448 [==============================] - 13s 9ms/step - loss: 1.7350 - accuracy: 0.6284\n",
            "Epoch 39/40\n",
            "1448/1448 [==============================] - 13s 9ms/step - loss: 1.7329 - accuracy: 0.6280\n",
            "Epoch 40/40\n",
            "1448/1448 [==============================] - 13s 9ms/step - loss: 1.7223 - accuracy: 0.6313\n"
          ]
        }
      ]
    },
    {
      "cell_type": "code",
      "source": [
        "plot_model(history)"
      ],
      "metadata": {
        "colab": {
          "base_uri": "https://localhost:8080/",
          "height": 350
        },
        "id": "XrxWYz59jmfF",
        "outputId": "b6d3aace-9e26-4dbd-b03e-6e4db94622fe"
      },
      "execution_count": 27,
      "outputs": [
        {
          "output_type": "display_data",
          "data": {
            "text/plain": [
              "<Figure size 1080x360 with 2 Axes>"
            ],
            "image/png": "[encoded data removed]"
          },
          "metadata": {
            "needs_background": "light"
          }
        }
      ]
    },
    {
      "cell_type": "markdown",
      "source": [
        "## Predicting the next word by the first model"
      ],
      "metadata": {
        "id": "I_xFUH8fAv4S"
      }
    },
    {
      "cell_type": "code",
      "source": [
        "seed_text = \"پس\"\n",
        "next_words = 2\n",
        "  \n",
        "for _ in range(next_words):\n",
        "    token_list = tokenizer.texts_to_sequences([seed_text])[0]\n",
        "    token_list = pad_sequences([token_list], maxlen=max_sequence_len-1, padding='pre')\n",
        "    predicted = model.predict(token_list, verbose=0).argmax()\n",
        "    output_word = \"\"\n",
        "    for word, index in tokenizer.word_index.items():\n",
        "        if index == predicted:\n",
        "            output_word = word\n",
        "            break\n",
        "    seed_text += \" \" + output_word\n",
        "print(seed_text)"
      ],
      "metadata": {
        "colab": {
          "base_uri": "https://localhost:8080/"
        },
        "id": "rdU2s6n6JCf5",
        "outputId": "793c7b46-6abe-42b8-f2a1-eacdba0b461c"
      },
      "execution_count": 28,
      "outputs": [
        {
          "output_type": "stream",
          "name": "stdout",
          "text": [
            "پس منتظرچه هستیدوقتی\n"
          ]
        }
      ]
    },
    {
      "cell_type": "markdown",
      "source": [
        "________"
      ],
      "metadata": {
        "id": "5q-emSoo5C8c"
      }
    },
    {
      "cell_type": "code",
      "source": [
        "model2 = tf.keras.Sequential()\n",
        "\n",
        "model2.add(Embedding(total_words, 100, input_length=max_sequence_len-1))\n",
        "model2.add(Bidirectional(GRU(30)))\n",
        "model2.add(Dense(total_words, activation='softmax'))\n",
        "\n",
        "adam = tf.keras.optimizers.Adam(learning_rate=0.01)\n",
        "model2.compile(loss='sparse_categorical_crossentropy', optimizer=adam, metrics=['accuracy'])"
      ],
      "metadata": {
        "id": "jt0VGnRoVSxU"
      },
      "execution_count": 127,
      "outputs": []
    },
    {
      "cell_type": "code",
      "source": [
        "model2.summary()"
      ],
      "metadata": {
        "colab": {
          "base_uri": "https://localhost:8080/"
        },
        "id": "-oZ1MfyuVTz_",
        "outputId": "0711e6bb-c058-4756-eec4-04804e53e1a1"
      },
      "execution_count": 126,
      "outputs": [
        {
          "output_type": "stream",
          "name": "stdout",
          "text": [
            "Model: \"sequential_1\"\n",
            "_________________________________________________________________\n",
            " Layer (type)                Output Shape              Param #   \n",
            "=================================================================\n",
            " embedding_1 (Embedding)     (None, 57, 100)           1547700   \n",
            "                                                                 \n",
            " bidirectional_1 (Bidirectio  (None, 60)               23760     \n",
            " nal)                                                            \n",
            "                                                                 \n",
            " dense_1 (Dense)             (None, 15477)             944097    \n",
            "                                                                 \n",
            "=================================================================\n",
            "Total params: 2,515,557\n",
            "Trainable params: 2,515,557\n",
            "Non-trainable params: 0\n",
            "_________________________________________________________________\n"
          ]
        }
      ]
    },
    {
      "cell_type": "code",
      "source": [
        "history2 = model2.fit(xs, labels, batch_size=128 , epochs=40, verbose=1)"
      ],
      "metadata": {
        "colab": {
          "base_uri": "https://localhost:8080/"
        },
        "id": "ooqK9ihlo426",
        "outputId": "c7970092-e514-4a59-d316-9f20f6d00d0c"
      },
      "execution_count": 29,
      "outputs": [
        {
          "output_type": "stream",
          "name": "stdout",
          "text": [
            "Epoch 1/40\n",
            "362/362 [==============================] - 7s 11ms/step - loss: 9.0057 - accuracy: 0.0134\n",
            "Epoch 2/40\n",
            "362/362 [==============================] - 4s 11ms/step - loss: 8.2117 - accuracy: 0.0207\n",
            "Epoch 3/40\n",
            "362/362 [==============================] - 4s 11ms/step - loss: 7.1816 - accuracy: 0.0428\n",
            "Epoch 4/40\n",
            "362/362 [==============================] - 4s 11ms/step - loss: 5.9255 - accuracy: 0.0863\n",
            "Epoch 5/40\n",
            "362/362 [==============================] - 4s 11ms/step - loss: 4.8162 - accuracy: 0.1679\n",
            "Epoch 6/40\n",
            "362/362 [==============================] - 4s 11ms/step - loss: 3.9753 - accuracy: 0.2697\n",
            "Epoch 7/40\n",
            "362/362 [==============================] - 4s 11ms/step - loss: 3.4421 - accuracy: 0.3569\n",
            "Epoch 8/40\n",
            "362/362 [==============================] - 4s 12ms/step - loss: 2.9800 - accuracy: 0.4294\n",
            "Epoch 9/40\n",
            "362/362 [==============================] - 5s 13ms/step - loss: 2.6689 - accuracy: 0.4837\n",
            "Epoch 10/40\n",
            "362/362 [==============================] - 4s 11ms/step - loss: 2.4521 - accuracy: 0.5179\n",
            "Epoch 11/40\n",
            "362/362 [==============================] - 4s 11ms/step - loss: 2.2695 - accuracy: 0.5479\n",
            "Epoch 12/40\n",
            "362/362 [==============================] - 4s 11ms/step - loss: 2.1264 - accuracy: 0.5690\n",
            "Epoch 13/40\n",
            "362/362 [==============================] - 4s 11ms/step - loss: 2.0169 - accuracy: 0.5871\n",
            "Epoch 14/40\n",
            "362/362 [==============================] - 4s 11ms/step - loss: 1.9151 - accuracy: 0.6025\n",
            "Epoch 15/40\n",
            "362/362 [==============================] - 4s 11ms/step - loss: 2.6221 - accuracy: 0.4840\n",
            "Epoch 16/40\n",
            "362/362 [==============================] - 4s 11ms/step - loss: 3.3591 - accuracy: 0.3176\n",
            "Epoch 17/40\n",
            "362/362 [==============================] - 4s 11ms/step - loss: 2.3237 - accuracy: 0.5009\n",
            "Epoch 18/40\n",
            "362/362 [==============================] - 4s 11ms/step - loss: 1.9255 - accuracy: 0.5785\n",
            "Epoch 19/40\n",
            "362/362 [==============================] - 4s 11ms/step - loss: 1.7489 - accuracy: 0.6178\n",
            "Epoch 20/40\n",
            "362/362 [==============================] - 4s 11ms/step - loss: 1.6497 - accuracy: 0.6346\n",
            "Epoch 21/40\n",
            "362/362 [==============================] - 4s 11ms/step - loss: 1.6100 - accuracy: 0.6423\n",
            "Epoch 22/40\n",
            "362/362 [==============================] - 4s 11ms/step - loss: 1.6203 - accuracy: 0.6350\n",
            "Epoch 23/40\n",
            "362/362 [==============================] - 4s 11ms/step - loss: 1.5440 - accuracy: 0.6498\n",
            "Epoch 24/40\n",
            "362/362 [==============================] - 4s 11ms/step - loss: 1.4728 - accuracy: 0.6619\n",
            "Epoch 25/40\n",
            "362/362 [==============================] - 4s 11ms/step - loss: 1.4293 - accuracy: 0.6725\n",
            "Epoch 26/40\n",
            "362/362 [==============================] - 4s 11ms/step - loss: 1.3967 - accuracy: 0.6774\n",
            "Epoch 27/40\n",
            "362/362 [==============================] - 4s 11ms/step - loss: 1.3842 - accuracy: 0.6765\n",
            "Epoch 28/40\n",
            "362/362 [==============================] - 4s 11ms/step - loss: 1.3696 - accuracy: 0.6792\n",
            "Epoch 29/40\n",
            "362/362 [==============================] - 4s 11ms/step - loss: 1.3400 - accuracy: 0.6829\n",
            "Epoch 30/40\n",
            "362/362 [==============================] - 4s 11ms/step - loss: 1.2961 - accuracy: 0.6944\n",
            "Epoch 31/40\n",
            "362/362 [==============================] - 4s 11ms/step - loss: 1.2574 - accuracy: 0.7040\n",
            "Epoch 32/40\n",
            "362/362 [==============================] - 4s 11ms/step - loss: 1.2439 - accuracy: 0.7039\n",
            "Epoch 33/40\n",
            "362/362 [==============================] - 4s 11ms/step - loss: 1.2111 - accuracy: 0.7125\n",
            "Epoch 34/40\n",
            "362/362 [==============================] - 4s 11ms/step - loss: 1.1949 - accuracy: 0.7174\n",
            "Epoch 35/40\n",
            "362/362 [==============================] - 4s 11ms/step - loss: 1.1773 - accuracy: 0.7186\n",
            "Epoch 36/40\n",
            "362/362 [==============================] - 4s 11ms/step - loss: 1.1484 - accuracy: 0.7226\n",
            "Epoch 37/40\n",
            "362/362 [==============================] - 4s 11ms/step - loss: 1.1377 - accuracy: 0.7237\n",
            "Epoch 38/40\n",
            "362/362 [==============================] - 4s 11ms/step - loss: 1.1170 - accuracy: 0.7283\n",
            "Epoch 39/40\n",
            "362/362 [==============================] - 4s 11ms/step - loss: 1.1243 - accuracy: 0.7278\n",
            "Epoch 40/40\n",
            "362/362 [==============================] - 4s 11ms/step - loss: 1.1266 - accuracy: 0.7260\n"
          ]
        }
      ]
    },
    {
      "cell_type": "code",
      "source": [
        "plot_model(history2) "
      ],
      "metadata": {
        "colab": {
          "base_uri": "https://localhost:8080/",
          "height": 350
        },
        "id": "_JxRA9Qhr5qT",
        "outputId": "92e7b6d2-23c1-455f-a667-184f317ad615"
      },
      "execution_count": 30,
      "outputs": [
        {
          "output_type": "display_data",
          "data": {
            "text/plain": [
              "<Figure size 1080x360 with 2 Axes>"
            ],
            "image/png": "[encoded data removed]"
          },
          "metadata": {
            "needs_background": "light"
          }
        }
      ]
    },
    {
      "cell_type": "markdown",
      "source": [
        "## Predicting the next word by the second model"
      ],
      "metadata": {
        "id": "1Y9DYWsRr17R"
      }
    },
    {
      "cell_type": "code",
      "source": [
        "seed_text = \"شاید\"\n",
        "next_words = 2\n",
        "  \n",
        "for _ in range(next_words):\n",
        "    token_list = tokenizer.texts_to_sequences([seed_text])[0]\n",
        "    token_list = pad_sequences([token_list], maxlen=max_sequence_len-1, padding='pre')\n",
        "    predicted = model2.predict(token_list, verbose=0).argmax()\n",
        "    output_word = \"\"\n",
        "    for word, index in tokenizer.word_index.items():\n",
        "        if index == predicted:\n",
        "            output_word = word\n",
        "            break\n",
        "    seed_text += \" \" + output_word\n",
        "print(seed_text)"
      ],
      "metadata": {
        "colab": {
          "base_uri": "https://localhost:8080/"
        },
        "id": "KWplLdsaq8VY",
        "outputId": "b401fc01-8454-4c09-fe08-7ef838019bea"
      },
      "execution_count": 32,
      "outputs": [
        {
          "output_type": "stream",
          "name": "stdout",
          "text": [
            "شاید دیده که\n"
          ]
        }
      ]
    },
    {
      "cell_type": "markdown",
      "source": [
        "___"
      ],
      "metadata": {
        "id": "40Z8eAJK5c8_"
      }
    },
    {
      "cell_type": "code",
      "source": [
        "model3 = tf.keras.Sequential()\n",
        "\n",
        "model3.add(Embedding(total_words, 100, input_length=max_sequence_len-1))\n",
        "model3.add(Bidirectional(GRU(30)))\n",
        "model3.add(Dense(total_words, activation='softmax'))\n",
        "\n",
        "adam = tf.keras.optimizers.Adam(learning_rate=0.01)\n",
        "model3.compile(loss='sparse_categorical_crossentropy', optimizer=adam, metrics=['accuracy'])"
      ],
      "metadata": {
        "id": "gpXg6fGzWxox"
      },
      "execution_count": 129,
      "outputs": []
    },
    {
      "cell_type": "code",
      "source": [
        "model3.summary()"
      ],
      "metadata": {
        "colab": {
          "base_uri": "https://localhost:8080/"
        },
        "id": "OHOayYj2WyMP",
        "outputId": "1fbfbafd-0504-4cca-9f85-297dd733852d"
      },
      "execution_count": 128,
      "outputs": [
        {
          "output_type": "stream",
          "name": "stdout",
          "text": [
            "Model: \"sequential_2\"\n",
            "_________________________________________________________________\n",
            " Layer (type)                Output Shape              Param #   \n",
            "=================================================================\n",
            " embedding_2 (Embedding)     (None, 57, 100)           1547700   \n",
            "                                                                 \n",
            " bidirectional_2 (Bidirectio  (None, 60)               23760     \n",
            " nal)                                                            \n",
            "                                                                 \n",
            " dense_2 (Dense)             (None, 15477)             944097    \n",
            "                                                                 \n",
            "=================================================================\n",
            "Total params: 2,515,557\n",
            "Trainable params: 2,515,557\n",
            "Non-trainable params: 0\n",
            "_________________________________________________________________\n"
          ]
        }
      ]
    },
    {
      "cell_type": "code",
      "source": [
        "history3 = model3.fit(xs, labels, batch_size=128 , epochs=50, verbose=1)"
      ],
      "metadata": {
        "colab": {
          "base_uri": "https://localhost:8080/"
        },
        "id": "cuhP7YKP5cFv",
        "outputId": "7b0e7222-8532-44ef-c5f0-04906cf86d29"
      },
      "execution_count": 33,
      "outputs": [
        {
          "output_type": "stream",
          "name": "stdout",
          "text": [
            "Epoch 1/50\n",
            "362/362 [==============================] - 7s 12ms/step - loss: 9.0743 - accuracy: 0.0120\n",
            "Epoch 2/50\n",
            "362/362 [==============================] - 4s 11ms/step - loss: 8.2700 - accuracy: 0.0216\n",
            "Epoch 3/50\n",
            "362/362 [==============================] - 4s 12ms/step - loss: 7.2652 - accuracy: 0.0430\n",
            "Epoch 4/50\n",
            "362/362 [==============================] - 5s 13ms/step - loss: 6.0178 - accuracy: 0.0870\n",
            "Epoch 5/50\n",
            "362/362 [==============================] - 5s 14ms/step - loss: 4.8849 - accuracy: 0.1669\n",
            "Epoch 6/50\n",
            "362/362 [==============================] - 4s 11ms/step - loss: 4.0146 - accuracy: 0.2745\n",
            "Epoch 7/50\n",
            "362/362 [==============================] - 4s 11ms/step - loss: 3.3946 - accuracy: 0.3690\n",
            "Epoch 8/50\n",
            "362/362 [==============================] - 4s 11ms/step - loss: 2.9566 - accuracy: 0.4425\n",
            "Epoch 9/50\n",
            "362/362 [==============================] - 5s 13ms/step - loss: 2.6555 - accuracy: 0.4891\n",
            "Epoch 10/50\n",
            "362/362 [==============================] - 4s 11ms/step - loss: 2.4242 - accuracy: 0.5271\n",
            "Epoch 11/50\n",
            "362/362 [==============================] - 4s 11ms/step - loss: 2.4159 - accuracy: 0.5256\n",
            "Epoch 12/50\n",
            "362/362 [==============================] - 4s 11ms/step - loss: 3.5294 - accuracy: 0.3148\n",
            "Epoch 13/50\n",
            "362/362 [==============================] - 4s 11ms/step - loss: 3.2710 - accuracy: 0.3460\n",
            "Epoch 14/50\n",
            "362/362 [==============================] - 4s 11ms/step - loss: 2.4292 - accuracy: 0.4948\n",
            "Epoch 15/50\n",
            "362/362 [==============================] - 4s 11ms/step - loss: 2.0582 - accuracy: 0.5638\n",
            "Epoch 16/50\n",
            "362/362 [==============================] - 4s 11ms/step - loss: 1.8758 - accuracy: 0.5992\n",
            "Epoch 17/50\n",
            "362/362 [==============================] - 4s 11ms/step - loss: 1.7566 - accuracy: 0.6232\n",
            "Epoch 18/50\n",
            "362/362 [==============================] - 4s 11ms/step - loss: 1.6799 - accuracy: 0.6363\n",
            "Epoch 19/50\n",
            "362/362 [==============================] - 4s 11ms/step - loss: 1.6388 - accuracy: 0.6409\n",
            "Epoch 20/50\n",
            "362/362 [==============================] - 4s 11ms/step - loss: 1.5984 - accuracy: 0.6470\n",
            "Epoch 21/50\n",
            "362/362 [==============================] - 4s 11ms/step - loss: 1.5604 - accuracy: 0.6505\n",
            "Epoch 22/50\n",
            "362/362 [==============================] - 4s 11ms/step - loss: 1.5088 - accuracy: 0.6606\n",
            "Epoch 23/50\n",
            "362/362 [==============================] - 4s 11ms/step - loss: 1.4979 - accuracy: 0.6652\n",
            "Epoch 24/50\n",
            "362/362 [==============================] - 4s 11ms/step - loss: 1.5049 - accuracy: 0.6586\n",
            "Epoch 25/50\n",
            "362/362 [==============================] - 4s 11ms/step - loss: 1.5880 - accuracy: 0.6455\n",
            "Epoch 26/50\n",
            "362/362 [==============================] - 4s 11ms/step - loss: 1.9356 - accuracy: 0.5741\n",
            "Epoch 27/50\n",
            "362/362 [==============================] - 4s 11ms/step - loss: 1.7489 - accuracy: 0.6030\n",
            "Epoch 28/50\n",
            "362/362 [==============================] - 4s 11ms/step - loss: 1.4567 - accuracy: 0.6681\n",
            "Epoch 29/50\n",
            "362/362 [==============================] - 4s 11ms/step - loss: 1.3014 - accuracy: 0.7024\n",
            "Epoch 30/50\n",
            "362/362 [==============================] - 4s 11ms/step - loss: 1.2537 - accuracy: 0.7101\n",
            "Epoch 31/50\n",
            "362/362 [==============================] - 4s 11ms/step - loss: 1.2296 - accuracy: 0.7133\n",
            "Epoch 32/50\n",
            "362/362 [==============================] - 4s 11ms/step - loss: 1.2340 - accuracy: 0.7141\n",
            "Epoch 33/50\n",
            "362/362 [==============================] - 4s 11ms/step - loss: 1.2528 - accuracy: 0.7075\n",
            "Epoch 34/50\n",
            "362/362 [==============================] - 4s 11ms/step - loss: 1.2529 - accuracy: 0.7051\n",
            "Epoch 35/50\n",
            "362/362 [==============================] - 4s 11ms/step - loss: 1.2493 - accuracy: 0.7060\n",
            "Epoch 36/50\n",
            "362/362 [==============================] - 4s 11ms/step - loss: 1.2227 - accuracy: 0.7117\n",
            "Epoch 37/50\n",
            "362/362 [==============================] - 4s 11ms/step - loss: 1.2068 - accuracy: 0.7136\n",
            "Epoch 38/50\n",
            "362/362 [==============================] - 4s 11ms/step - loss: 1.2349 - accuracy: 0.7045\n",
            "Epoch 39/50\n",
            "362/362 [==============================] - 4s 11ms/step - loss: 1.2271 - accuracy: 0.7082\n",
            "Epoch 40/50\n",
            "362/362 [==============================] - 4s 11ms/step - loss: 1.1994 - accuracy: 0.7148\n",
            "Epoch 41/50\n",
            "362/362 [==============================] - 4s 11ms/step - loss: 1.1681 - accuracy: 0.7210\n",
            "Epoch 42/50\n",
            "362/362 [==============================] - 4s 11ms/step - loss: 1.3400 - accuracy: 0.6887\n",
            "Epoch 43/50\n",
            "362/362 [==============================] - 5s 13ms/step - loss: 1.5493 - accuracy: 0.6408\n",
            "Epoch 44/50\n",
            "362/362 [==============================] - 4s 11ms/step - loss: 1.3992 - accuracy: 0.6721\n",
            "Epoch 45/50\n",
            "362/362 [==============================] - 4s 11ms/step - loss: 1.2291 - accuracy: 0.7097\n",
            "Epoch 46/50\n",
            "362/362 [==============================] - 4s 11ms/step - loss: 1.1014 - accuracy: 0.7362\n",
            "Epoch 47/50\n",
            "362/362 [==============================] - 4s 11ms/step - loss: 1.0453 - accuracy: 0.7480\n",
            "Epoch 48/50\n",
            "362/362 [==============================] - 4s 11ms/step - loss: 1.0319 - accuracy: 0.7513\n",
            "Epoch 49/50\n",
            "362/362 [==============================] - 4s 11ms/step - loss: 1.0631 - accuracy: 0.7444\n",
            "Epoch 50/50\n",
            "362/362 [==============================] - 4s 11ms/step - loss: 1.0603 - accuracy: 0.7441\n"
          ]
        }
      ]
    },
    {
      "cell_type": "code",
      "source": [
        "plot_model(history3) "
      ],
      "metadata": {
        "colab": {
          "base_uri": "https://localhost:8080/",
          "height": 350
        },
        "id": "F9QASfp55xMj",
        "outputId": "6ba6f000-e7c5-43c3-bc23-ef609ec6ee8d"
      },
      "execution_count": 34,
      "outputs": [
        {
          "output_type": "display_data",
          "data": {
            "text/plain": [
              "<Figure size 1080x360 with 2 Axes>"
            ],
            "image/png": "[encoded data removed]"
          },
          "metadata": {
            "needs_background": "light"
          }
        }
      ]
    },
    {
      "cell_type": "markdown",
      "source": [
        "## Predicting the next word by the third model"
      ],
      "metadata": {
        "id": "cTuHBNc359Nc"
      }
    },
    {
      "cell_type": "code",
      "source": [
        "seed_text = \"روزی\"\n",
        "next_words = 2\n",
        "  \n",
        "for _ in range(next_words):\n",
        "    token_list = tokenizer.texts_to_sequences([seed_text])[0]\n",
        "    token_list = pad_sequences([token_list], maxlen=max_sequence_len-1, padding='pre')\n",
        "    predicted = model3.predict(token_list, verbose=0).argmax()\n",
        "    output_word = \"\"\n",
        "    for word, index in tokenizer.word_index.items():\n",
        "        if index == predicted:\n",
        "            output_word = word\n",
        "            break\n",
        "    seed_text += \" \" + output_word\n",
        "print(seed_text)"
      ],
      "metadata": {
        "colab": {
          "base_uri": "https://localhost:8080/"
        },
        "id": "AxhBflIA59jx",
        "outputId": "1ff138b3-a9a7-4db4-acd6-007620fcf0f4"
      },
      "execution_count": 86,
      "outputs": [
        {
          "output_type": "stream",
          "name": "stdout",
          "text": [
            "روزی فرا میرسدکه\n"
          ]
        }
      ]
    },
    {
      "cell_type": "markdown",
      "source": [
        "____"
      ],
      "metadata": {
        "id": "erGw0xE96HVy"
      }
    },
    {
      "cell_type": "code",
      "source": [
        "model4 = tf.keras.Sequential()\n",
        "\n",
        "model4.add(Embedding(total_words, 100, input_length=max_sequence_len-1))\n",
        "model4.add(Bidirectional(LSTM(30)))\n",
        "model4.add(Dense(total_words, activation='softmax'))\n",
        "\n",
        "adam = tf.keras.optimizers.Adam(learning_rate=0.01)\n",
        "model4.compile(loss='sparse_categorical_crossentropy', optimizer=adam, metrics=['accuracy'])"
      ],
      "metadata": {
        "id": "h6ysqkGeXnMw"
      },
      "execution_count": 131,
      "outputs": []
    },
    {
      "cell_type": "code",
      "source": [
        "model4.summary()"
      ],
      "metadata": {
        "colab": {
          "base_uri": "https://localhost:8080/"
        },
        "id": "XH9duIrlXnyF",
        "outputId": "4f25fb5f-01e4-4563-e735-8aea153f5dd9"
      },
      "execution_count": 130,
      "outputs": [
        {
          "output_type": "stream",
          "name": "stdout",
          "text": [
            "Model: \"sequential_3\"\n",
            "_________________________________________________________________\n",
            " Layer (type)                Output Shape              Param #   \n",
            "=================================================================\n",
            " embedding_3 (Embedding)     (None, 57, 100)           1547700   \n",
            "                                                                 \n",
            " bidirectional_3 (Bidirectio  (None, 60)               31440     \n",
            " nal)                                                            \n",
            "                                                                 \n",
            " dense_3 (Dense)             (None, 15477)             944097    \n",
            "                                                                 \n",
            "=================================================================\n",
            "Total params: 2,523,237\n",
            "Trainable params: 2,523,237\n",
            "Non-trainable params: 0\n",
            "_________________________________________________________________\n"
          ]
        }
      ]
    },
    {
      "cell_type": "code",
      "source": [
        "history4 = model4.fit(xs, labels, batch_size=128 , epochs=50, verbose=1)"
      ],
      "metadata": {
        "colab": {
          "base_uri": "https://localhost:8080/"
        },
        "id": "sXPYP6Uo6F_U",
        "outputId": "9a868a67-b73c-400d-9b16-b00ecee679a6"
      },
      "execution_count": 36,
      "outputs": [
        {
          "output_type": "stream",
          "name": "stdout",
          "text": [
            "Epoch 1/50\n",
            "362/362 [==============================] - 7s 12ms/step - loss: 8.9035 - accuracy: 0.0147\n",
            "Epoch 2/50\n",
            "362/362 [==============================] - 4s 12ms/step - loss: 8.2507 - accuracy: 0.0179\n",
            "Epoch 3/50\n",
            "362/362 [==============================] - 4s 12ms/step - loss: 7.5815 - accuracy: 0.0276\n",
            "Epoch 4/50\n",
            "362/362 [==============================] - 4s 12ms/step - loss: 6.6825 - accuracy: 0.0521\n",
            "Epoch 5/50\n",
            "362/362 [==============================] - 4s 12ms/step - loss: 5.7208 - accuracy: 0.1031\n",
            "Epoch 6/50\n",
            "362/362 [==============================] - 4s 11ms/step - loss: 4.8553 - accuracy: 0.1937\n",
            "Epoch 7/50\n",
            "362/362 [==============================] - 4s 12ms/step - loss: 4.1228 - accuracy: 0.2970\n",
            "Epoch 8/50\n",
            "362/362 [==============================] - 4s 12ms/step - loss: 3.5417 - accuracy: 0.3954\n",
            "Epoch 9/50\n",
            "362/362 [==============================] - 4s 12ms/step - loss: 3.0946 - accuracy: 0.4656\n",
            "Epoch 10/50\n",
            "362/362 [==============================] - 4s 12ms/step - loss: 2.7509 - accuracy: 0.5194\n",
            "Epoch 11/50\n",
            "362/362 [==============================] - 4s 12ms/step - loss: 2.4923 - accuracy: 0.5585\n",
            "Epoch 12/50\n",
            "362/362 [==============================] - 4s 12ms/step - loss: 2.2946 - accuracy: 0.5882\n",
            "Epoch 13/50\n",
            "362/362 [==============================] - 4s 12ms/step - loss: 2.1316 - accuracy: 0.6102\n",
            "Epoch 14/50\n",
            "362/362 [==============================] - 4s 12ms/step - loss: 2.0023 - accuracy: 0.6311\n",
            "Epoch 15/50\n",
            "362/362 [==============================] - 4s 12ms/step - loss: 1.8825 - accuracy: 0.6506\n",
            "Epoch 16/50\n",
            "362/362 [==============================] - 4s 12ms/step - loss: 1.7823 - accuracy: 0.6630\n",
            "Epoch 17/50\n",
            "362/362 [==============================] - 4s 12ms/step - loss: 1.6965 - accuracy: 0.6775\n",
            "Epoch 18/50\n",
            "362/362 [==============================] - 4s 12ms/step - loss: 1.6305 - accuracy: 0.6876\n",
            "Epoch 19/50\n",
            "362/362 [==============================] - 4s 12ms/step - loss: 1.5707 - accuracy: 0.6973\n",
            "Epoch 20/50\n",
            "362/362 [==============================] - 4s 12ms/step - loss: 1.5144 - accuracy: 0.7057\n",
            "Epoch 21/50\n",
            "362/362 [==============================] - 4s 12ms/step - loss: 1.4687 - accuracy: 0.7117\n",
            "Epoch 22/50\n",
            "362/362 [==============================] - 4s 12ms/step - loss: 1.4180 - accuracy: 0.7205\n",
            "Epoch 23/50\n",
            "362/362 [==============================] - 4s 12ms/step - loss: 1.3818 - accuracy: 0.7252\n",
            "Epoch 24/50\n",
            "362/362 [==============================] - 4s 12ms/step - loss: 1.3461 - accuracy: 0.7299\n",
            "Epoch 25/50\n",
            "362/362 [==============================] - 5s 14ms/step - loss: 1.3149 - accuracy: 0.7348\n",
            "Epoch 26/50\n",
            "362/362 [==============================] - 5s 13ms/step - loss: 1.2856 - accuracy: 0.7403\n",
            "Epoch 27/50\n",
            "362/362 [==============================] - 6s 16ms/step - loss: 1.2602 - accuracy: 0.7458\n",
            "Epoch 28/50\n",
            "362/362 [==============================] - 5s 15ms/step - loss: 1.2284 - accuracy: 0.7486\n",
            "Epoch 29/50\n",
            "362/362 [==============================] - 6s 15ms/step - loss: 1.2009 - accuracy: 0.7517\n",
            "Epoch 30/50\n",
            "362/362 [==============================] - 4s 12ms/step - loss: 1.1766 - accuracy: 0.7547\n",
            "Epoch 31/50\n",
            "362/362 [==============================] - 4s 12ms/step - loss: 1.1502 - accuracy: 0.7618\n",
            "Epoch 32/50\n",
            "362/362 [==============================] - 4s 12ms/step - loss: 1.1304 - accuracy: 0.7652\n",
            "Epoch 33/50\n",
            "362/362 [==============================] - 4s 12ms/step - loss: 1.1197 - accuracy: 0.7646\n",
            "Epoch 34/50\n",
            "362/362 [==============================] - 4s 12ms/step - loss: 1.1146 - accuracy: 0.7633\n",
            "Epoch 35/50\n",
            "362/362 [==============================] - 4s 12ms/step - loss: 1.1074 - accuracy: 0.7652\n",
            "Epoch 36/50\n",
            "362/362 [==============================] - 4s 12ms/step - loss: 1.1001 - accuracy: 0.7679\n",
            "Epoch 37/50\n",
            "362/362 [==============================] - 4s 12ms/step - loss: 1.0729 - accuracy: 0.7721\n",
            "Epoch 38/50\n",
            "362/362 [==============================] - 6s 16ms/step - loss: 1.0561 - accuracy: 0.7757\n",
            "Epoch 39/50\n",
            "362/362 [==============================] - 5s 15ms/step - loss: 1.0469 - accuracy: 0.7758\n",
            "Epoch 40/50\n",
            "362/362 [==============================] - 5s 15ms/step - loss: 1.0436 - accuracy: 0.7772\n",
            "Epoch 41/50\n",
            "362/362 [==============================] - 5s 14ms/step - loss: 1.0322 - accuracy: 0.7776\n",
            "Epoch 42/50\n",
            "362/362 [==============================] - 6s 16ms/step - loss: 1.0336 - accuracy: 0.7772\n",
            "Epoch 43/50\n",
            "362/362 [==============================] - 5s 15ms/step - loss: 1.0197 - accuracy: 0.7784\n",
            "Epoch 44/50\n",
            "362/362 [==============================] - 4s 12ms/step - loss: 0.9955 - accuracy: 0.7849\n",
            "Epoch 45/50\n",
            "362/362 [==============================] - 6s 15ms/step - loss: 0.9996 - accuracy: 0.7829\n",
            "Epoch 46/50\n",
            "362/362 [==============================] - 6s 15ms/step - loss: 0.9969 - accuracy: 0.7814\n",
            "Epoch 47/50\n",
            "362/362 [==============================] - 4s 12ms/step - loss: 0.9894 - accuracy: 0.7835\n",
            "Epoch 48/50\n",
            "362/362 [==============================] - 4s 12ms/step - loss: 0.9814 - accuracy: 0.7855\n",
            "Epoch 49/50\n",
            "362/362 [==============================] - 4s 12ms/step - loss: 0.9518 - accuracy: 0.7936\n",
            "Epoch 50/50\n",
            "362/362 [==============================] - 4s 12ms/step - loss: 0.9671 - accuracy: 0.7892\n"
          ]
        }
      ]
    },
    {
      "cell_type": "code",
      "source": [
        "plot_model(history4) "
      ],
      "metadata": {
        "colab": {
          "base_uri": "https://localhost:8080/",
          "height": 350
        },
        "id": "C-_z6x0D6ZmJ",
        "outputId": "b6b5d400-1399-4ebe-f76e-1edd37f96393"
      },
      "execution_count": 37,
      "outputs": [
        {
          "output_type": "display_data",
          "data": {
            "text/plain": [
              "<Figure size 1080x360 with 2 Axes>"
            ],
            "image/png": "[encoded data removed]"
          },
          "metadata": {
            "needs_background": "light"
          }
        }
      ]
    },
    {
      "cell_type": "markdown",
      "source": [
        "## Predicting the next word by the fourth model"
      ],
      "metadata": {
        "id": "y4SvlRRf6c0f"
      }
    },
    {
      "cell_type": "code",
      "source": [
        "seed_text = \"کاش\"\n",
        "next_words = 2\n",
        "  \n",
        "for _ in range(next_words):\n",
        "    token_list = tokenizer.texts_to_sequences([seed_text])[0]\n",
        "    token_list = pad_sequences([token_list], maxlen=max_sequence_len-1, padding='pre')\n",
        "    predicted = model4.predict(token_list, verbose=0).argmax()\n",
        "    output_word = \"\"\n",
        "    for word, index in tokenizer.word_index.items():\n",
        "        if index == predicted:\n",
        "            output_word = word\n",
        "            break\n",
        "    seed_text += \" \" + output_word\n",
        "print(seed_text)"
      ],
      "metadata": {
        "colab": {
          "base_uri": "https://localhost:8080/"
        },
        "id": "vQzyyca5CeBB",
        "outputId": "2c4547fd-8a50-4d8d-8465-1665713a3798"
      },
      "execution_count": 63,
      "outputs": [
        {
          "output_type": "stream",
          "name": "stdout",
          "text": [
            "کاش شما میدانستید\n"
          ]
        }
      ]
    }
  ]
}